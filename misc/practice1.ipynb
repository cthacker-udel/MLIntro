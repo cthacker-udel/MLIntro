{
 "cells": [
  {
   "cell_type": "code",
   "execution_count": 1,
   "metadata": {},
   "outputs": [],
   "source": [
    "#Example queries\n",
    "\n",
    "# maximum amount of delays ordered by month"
   ]
  },
  {
   "cell_type": "code",
   "execution_count": 2,
   "metadata": {},
   "outputs": [
    {
     "data": {
      "image/png": "[encoded data removed]",
      "text/plain": [
       "<Figure size 640x480 with 1 Axes>"
      ]
     },
     "metadata": {},
     "output_type": "display_data"
    }
   ],
   "source": [
    "import pandas as pd\n",
    "import matplotlib.pyplot as plt\n",
    "import numpy as np\n",
    "from sklearn import linear_model\n",
    "from importlib import reload\n",
    "\n",
    "PREDICTION_FILE = 'area_predictions.csv'\n",
    "\n",
    "FILEPATH = \"https://corgis-edu.github.io/corgis/datasets/csv/airlines/airlines.csv\"\n",
    "\n",
    "df = pd.read_csv(FILEPATH)\n",
    "\n",
    "rows, columns = df.shape\n",
    "\n",
    "new_column = (\n",
    "    df[\"Statistics.# of Delays.National Aviation System\"]\n",
    "    .add(df[\"Statistics.# of Delays.Carrier\"])\n",
    "    .add(df[\"Statistics.# of Delays.Late Aircraft\"])\n",
    "    .add(df[\"Statistics.# of Delays.Security\"])\n",
    "    .add(df[\"Statistics.# of Delays.Weather\"])\n",
    ")\n",
    "\n",
    "maxes = []\n",
    "\n",
    "df.insert(columns, \"SumDelays\", new_column, True)\n",
    "\n",
    "df[\"Time.Label\"] = pd.to_datetime(df[\"Time.Label\"])\n",
    "\n",
    "for i in range(1, 13):\n",
    "    filtered_months = df[['Airport.Code', 'Airport.Name', 'Time.Label', 'SumDelays']][df['Time.Label'].dt.month == i]\n",
    "    max_delays = filtered_months['SumDelays'].max()\n",
    "    plt.bar(i, max_delays)\n",
    "    maxes.append(max_delays)\n",
    "\n",
    "vertical_ticks = np.linspace(0, np.average(maxes), 25).tolist().extend([max(maxes)])\n",
    "\n",
    "plt.ylabel(\"Maximum number of delays\")\n",
    "plt.xlabel(\"Month\")\n",
    "plt.yticks(vertical_ticks)\n",
    "plt.title(\"Airport Max # of delays per month\")\n",
    "\n",
    "plt.show()"
   ]
  },
  {
   "cell_type": "code",
   "execution_count": 3,
   "metadata": {},
   "outputs": [
    {
     "data": {
      "text/html": [
       "<div>\n",
       "<style scoped>\n",
       "    .dataframe tbody tr th:only-of-type {\n",
       "        vertical-align: middle;\n",
       "    }\n",
       "\n",
       "    .dataframe tbody tr th {\n",
       "        vertical-align: top;\n",
       "    }\n",
       "\n",
       "    .dataframe thead th {\n",
       "        text-align: right;\n",
       "    }\n",
       "</style>\n",
       "<table border=\"1\" class=\"dataframe\">\n",
       "  <thead>\n",
       "    <tr style=\"text-align: right;\">\n",
       "      <th></th>\n",
       "      <th>town</th>\n",
       "      <th>area</th>\n",
       "      <th>price</th>\n",
       "    </tr>\n",
       "  </thead>\n",
       "  <tbody>\n",
       "    <tr>\n",
       "      <th>0</th>\n",
       "      <td>monroe township</td>\n",
       "      <td>2600</td>\n",
       "      <td>550000</td>\n",
       "    </tr>\n",
       "    <tr>\n",
       "      <th>1</th>\n",
       "      <td>monroe township</td>\n",
       "      <td>3000</td>\n",
       "      <td>565000</td>\n",
       "    </tr>\n",
       "    <tr>\n",
       "      <th>2</th>\n",
       "      <td>monroe township</td>\n",
       "      <td>3200</td>\n",
       "      <td>610000</td>\n",
       "    </tr>\n",
       "    <tr>\n",
       "      <th>3</th>\n",
       "      <td>monroe township</td>\n",
       "      <td>3600</td>\n",
       "      <td>680000</td>\n",
       "    </tr>\n",
       "    <tr>\n",
       "      <th>4</th>\n",
       "      <td>monroe township</td>\n",
       "      <td>4000</td>\n",
       "      <td>725000</td>\n",
       "    </tr>\n",
       "    <tr>\n",
       "      <th>5</th>\n",
       "      <td>west windsor</td>\n",
       "      <td>2600</td>\n",
       "      <td>585000</td>\n",
       "    </tr>\n",
       "    <tr>\n",
       "      <th>6</th>\n",
       "      <td>west windsor</td>\n",
       "      <td>2800</td>\n",
       "      <td>615000</td>\n",
       "    </tr>\n",
       "    <tr>\n",
       "      <th>7</th>\n",
       "      <td>west windsor</td>\n",
       "      <td>3300</td>\n",
       "      <td>650000</td>\n",
       "    </tr>\n",
       "    <tr>\n",
       "      <th>8</th>\n",
       "      <td>west windsor</td>\n",
       "      <td>3600</td>\n",
       "      <td>710000</td>\n",
       "    </tr>\n",
       "    <tr>\n",
       "      <th>9</th>\n",
       "      <td>robinsville</td>\n",
       "      <td>2600</td>\n",
       "      <td>575000</td>\n",
       "    </tr>\n",
       "    <tr>\n",
       "      <th>10</th>\n",
       "      <td>robinsville</td>\n",
       "      <td>2900</td>\n",
       "      <td>600000</td>\n",
       "    </tr>\n",
       "    <tr>\n",
       "      <th>11</th>\n",
       "      <td>robinsville</td>\n",
       "      <td>3100</td>\n",
       "      <td>620000</td>\n",
       "    </tr>\n",
       "    <tr>\n",
       "      <th>12</th>\n",
       "      <td>robinsville</td>\n",
       "      <td>3600</td>\n",
       "      <td>695000</td>\n",
       "    </tr>\n",
       "  </tbody>\n",
       "</table>\n",
       "</div>"
      ],
      "text/plain": [
       "               town  area   price\n",
       "0   monroe township  2600  550000\n",
       "1   monroe township  3000  565000\n",
       "2   monroe township  3200  610000\n",
       "3   monroe township  3600  680000\n",
       "4   monroe township  4000  725000\n",
       "5      west windsor  2600  585000\n",
       "6      west windsor  2800  615000\n",
       "7      west windsor  3300  650000\n",
       "8      west windsor  3600  710000\n",
       "9       robinsville  2600  575000\n",
       "10      robinsville  2900  600000\n",
       "11      robinsville  3100  620000\n",
       "12      robinsville  3600  695000"
      ]
     },
     "execution_count": 3,
     "metadata": {},
     "output_type": "execute_result"
    }
   ],
   "source": [
    "df = pd.read_csv(\"homeprices.csv\")\n",
    "df"
   ]
  },
  {
   "cell_type": "code",
   "execution_count": 4,
   "metadata": {},
   "outputs": [
    {
     "data": {
      "text/plain": [
       "<matplotlib.collections.PathCollection at 0x22900320070>"
      ]
     },
     "execution_count": 4,
     "metadata": {},
     "output_type": "execute_result"
    },
    {
     "data": {
      "image/png": "[encoded data removed]",
      "text/plain": [
       "<Figure size 640x480 with 1 Axes>"
      ]
     },
     "metadata": {},
     "output_type": "display_data"
    }
   ],
   "source": [
    "from importlib import reload\n",
    "\n",
    "plt = reload(plt)\n",
    "plt.xlabel(\"Area (sq ft)\")\n",
    "plt.ylabel(\"Price (US$)\")\n",
    "plt.scatter(df.area, df.price, color='red', marker='+')"
   ]
  },
  {
   "cell_type": "code",
   "execution_count": 5,
   "metadata": {},
   "outputs": [
    {
     "data": {
      "text/plain": [
       "LinearRegression()"
      ]
     },
     "execution_count": 5,
     "metadata": {},
     "output_type": "execute_result"
    }
   ],
   "source": [
    "reg = linear_model.LinearRegression()\n",
    "reg.fit(df[['area']].values, df[['price']].values)\n"
   ]
  },
  {
   "cell_type": "code",
   "execution_count": 6,
   "metadata": {},
   "outputs": [
    {
     "data": {
      "text/plain": [
       "array([[848531.42501556]])"
      ]
     },
     "execution_count": 6,
     "metadata": {},
     "output_type": "execute_result"
    }
   ],
   "source": [
    "reg.predict([[5000]])\n"
   ]
  },
  {
   "cell_type": "code",
   "execution_count": 7,
   "metadata": {},
   "outputs": [
    {
     "data": {
      "text/plain": [
       "array([[118.29495955]])"
      ]
     },
     "execution_count": 7,
     "metadata": {},
     "output_type": "execute_result"
    }
   ],
   "source": [
    "reg.coef_"
   ]
  },
  {
   "cell_type": "code",
   "execution_count": 8,
   "metadata": {},
   "outputs": [
    {
     "data": {
      "text/plain": [
       "array([257056.62725576])"
      ]
     },
     "execution_count": 8,
     "metadata": {},
     "output_type": "execute_result"
    }
   ],
   "source": [
    "reg.intercept_"
   ]
  },
  {
   "cell_type": "code",
   "execution_count": 9,
   "metadata": {},
   "outputs": [
    {
     "data": {
      "text/plain": [
       "array([[848531.42501556]])"
      ]
     },
     "execution_count": 9,
     "metadata": {},
     "output_type": "execute_result"
    }
   ],
   "source": [
    "y = reg.coef_*5000+reg.intercept_\n",
    "y"
   ]
  },
  {
   "cell_type": "code",
   "execution_count": 10,
   "metadata": {},
   "outputs": [],
   "source": [
    "df = pd.DataFrame({ 'area': [1000, 1500, 2300, 3540, 4120, 4560, 5490, 3460, 4750, 2300, 9000, 8600, 7100]})\n",
    "df.to_csv('areas.csv', index=False)"
   ]
  },
  {
   "cell_type": "code",
   "execution_count": 11,
   "metadata": {},
   "outputs": [
    {
     "data": {
      "text/html": [
       "<div>\n",
       "<style scoped>\n",
       "    .dataframe tbody tr th:only-of-type {\n",
       "        vertical-align: middle;\n",
       "    }\n",
       "\n",
       "    .dataframe tbody tr th {\n",
       "        vertical-align: top;\n",
       "    }\n",
       "\n",
       "    .dataframe thead th {\n",
       "        text-align: right;\n",
       "    }\n",
       "</style>\n",
       "<table border=\"1\" class=\"dataframe\">\n",
       "  <thead>\n",
       "    <tr style=\"text-align: right;\">\n",
       "      <th></th>\n",
       "      <th>area</th>\n",
       "      <th>prices</th>\n",
       "    </tr>\n",
       "  </thead>\n",
       "  <tbody>\n",
       "    <tr>\n",
       "      <th>0</th>\n",
       "      <td>1000</td>\n",
       "      <td>316404.109589</td>\n",
       "    </tr>\n",
       "    <tr>\n",
       "      <th>1</th>\n",
       "      <td>1500</td>\n",
       "      <td>384297.945205</td>\n",
       "    </tr>\n",
       "    <tr>\n",
       "      <th>2</th>\n",
       "      <td>2300</td>\n",
       "      <td>492928.082192</td>\n",
       "    </tr>\n",
       "  </tbody>\n",
       "</table>\n",
       "</div>"
      ],
      "text/plain": [
       "   area         prices\n",
       "0  1000  316404.109589\n",
       "1  1500  384297.945205\n",
       "2  2300  492928.082192"
      ]
     },
     "execution_count": 11,
     "metadata": {},
     "output_type": "execute_result"
    }
   ],
   "source": [
    "d = pd.read_csv(PREDICTION_FILE)\n",
    "d.head(3)"
   ]
  },
  {
   "cell_type": "code",
   "execution_count": 12,
   "metadata": {},
   "outputs": [],
   "source": [
    "p = reg.predict(d[['area']].values)"
   ]
  },
  {
   "cell_type": "code",
   "execution_count": 13,
   "metadata": {},
   "outputs": [],
   "source": [
    "d['prices'] = p\n",
    "d\n",
    "d.to_csv(PREDICTION_FILE, index=False)"
   ]
  },
  {
   "cell_type": "code",
   "execution_count": 14,
   "metadata": {},
   "outputs": [
    {
     "name": "stderr",
     "output_type": "stream",
     "text": [
      "c:\\Users\\flyin\\anaconda3\\lib\\site-packages\\sklearn\\base.py:443: UserWarning: X has feature names, but LinearRegression was fitted without feature names\n",
      "  warnings.warn(\n"
     ]
    },
    {
     "data": {
      "text/plain": [
       "[<matplotlib.lines.Line2D at 0x2290090d6d0>]"
      ]
     },
     "execution_count": 14,
     "metadata": {},
     "output_type": "execute_result"
    },
    {
     "data": {
      "image/png": "[encoded data removed]",
      "text/plain": [
       "<Figure size 640x480 with 1 Axes>"
      ]
     },
     "metadata": {},
     "output_type": "display_data"
    }
   ],
   "source": [
    "%matplotlib inline\n",
    "\n",
    "d = pd.read_csv('homeprices.csv')\n",
    "\n",
    "plt.scatter(d[['area']], d[['price']], color='red', marker='+')\n",
    "plt.plot(d[['area']], reg.predict(d[['area']]), color=\"blue\")"
   ]
  },
  {
   "cell_type": "code",
   "execution_count": null,
   "metadata": {},
   "outputs": [],
   "source": []
  },
  {
   "cell_type": "code",
   "execution_count": 15,
   "metadata": {},
   "outputs": [
    {
     "data": {
      "text/plain": [
       "[<matplotlib.lines.Line2D at 0x22900b1dd30>]"
      ]
     },
     "execution_count": 15,
     "metadata": {},
     "output_type": "execute_result"
    },
    {
     "data": {
      "image/png": "[encoded data removed]",
      "text/plain": [
       "<Figure size 640x480 with 1 Axes>"
      ]
     },
     "metadata": {},
     "output_type": "display_data"
    }
   ],
   "source": [
    "## Calculating canada's per capita income\n",
    "## find out the predicted income in year 2020\n",
    "\n",
    "income = pd.read_csv('canada_per_capita_income.csv')\n",
    "\n",
    "income_model = linear_model.LinearRegression()\n",
    "\n",
    "\n",
    "income = income.rename(columns={'per capita income (US$)': 'per_capita_income'})\n",
    "\n",
    "\n",
    "income_model.fit(income[['year']].values, income[['per_capita_income']].values)\n",
    "\n",
    "%matplotlib inline\n",
    "\n",
    "plt.xlabel(\"Year\")\n",
    "plt.ylabel(\"Per-Capita Income\")\n",
    "plt.scatter(income[['year']], income[['per_capita_income']], color='red', marker='+')\n",
    "plt.plot(income[['year']], income_model.predict(income[['year']].values), color='blue')\n",
    "plt.plot(2020, income_model.predict([[2020]])[0][0], marker='o', markeredgecolor='green', markerfacecolor='green')"
   ]
  },
  {
   "cell_type": "code",
   "execution_count": 16,
   "metadata": {},
   "outputs": [
    {
     "data": {
      "text/plain": [
       "Text(0.5, 1.0, '# of airport delays by year')"
      ]
     },
     "execution_count": 16,
     "metadata": {},
     "output_type": "execute_result"
    },
    {
     "data": {
      "image/png": "[encoded data removed]",
      "text/plain": [
       "<Figure size 640x480 with 1 Axes>"
      ]
     },
     "metadata": {},
     "output_type": "display_data"
    }
   ],
   "source": [
    "## predict the # of delays in the coming years for airlines\n",
    "\n",
    "airport_df = pd.read_csv('./pandaspractice/airlines.csv')\n",
    "\n",
    "# airport_df[['Time.Year']]\n",
    "\n",
    "grouped_df = airport_df.groupby(by='Time.Year').sum()\n",
    "\n",
    "#airport_df[['Statistics.# of Delays.Carrier', 'Statistics.# of Delays.Late Aircraft', 'Statistics.# of Delays.National Aviation System', 'Statistics.# of Delays.Security', 'Statistics.# of Delays.Weather']].aggregate(np.sum)\n",
    "\n",
    "grouped_df['sum_delays'] = grouped_df['Statistics.# of Delays.Carrier'].add(grouped_df['Statistics.# of Delays.Late Aircraft']).add(grouped_df['Statistics.# of Delays.National Aviation System']).add(grouped_df['Statistics.# of Delays.Security']).add(grouped_df['Statistics.# of Delays.Weather'])\n",
    "\n",
    "airport_model = linear_model.LinearRegression()\n",
    "\n",
    "grouped_df = grouped_df.reset_index()\n",
    "\n",
    "\n",
    "airport_model.fit(grouped_df[['Time.Year']].values, grouped_df[['sum_delays']].values)\n",
    "\n",
    "%matplotlib inline\n",
    "\n",
    "plt.scatter(grouped_df[['Time.Year']], grouped_df[['sum_delays']].apply(lambda x: x / 100))\n",
    "\n",
    "plt.plot(grouped_df[['Time.Year']], [x / 100 for x in airport_model.predict(grouped_df[['Time.Year']].values)], color='red')\n",
    "\n",
    "plt.plot(2020, airport_model.predict([[2020]])[0][0] / 100, marker='o', markeredgecolor='green')\n",
    "\n",
    "plt.plot(2025, airport_model.predict([[2025]])[0][0] / 100, marker='o', markeredgecolor='green')\n",
    "\n",
    "plt.ylabel('# of delays')\n",
    "plt.xlabel('Year')\n",
    "plt.title('# of airport delays by year')\n"
   ]
  },
  {
   "cell_type": "code",
   "execution_count": 17,
   "metadata": {},
   "outputs": [
    {
     "data": {
      "text/plain": [
       "LinearRegression()"
      ]
     },
     "execution_count": 17,
     "metadata": {},
     "output_type": "execute_result"
    }
   ],
   "source": [
    "airport_df = pd.read_csv('./pandaspractice/airlines.csv')\n",
    "\n",
    "airport_multivariate_prediction = linear_model.LinearRegression()\n",
    "\n",
    "grouped_by_month = airport_df.groupby(by='Time.Year').sum()\n",
    "\n",
    "# airport_multivariate_prediction.fit(airport_df[['Statistics.Flights.Total', 'Time.Year', '']])\n",
    "\n",
    "grouped_by_month['sum_delays'] = grouped_by_month['Statistics.# of Delays.Carrier'].add(grouped_by_month['Statistics.# of Delays.Late Aircraft']).add(grouped_by_month['Statistics.# of Delays.National Aviation System']).add(grouped_by_month['Statistics.# of Delays.Security']).add(grouped_by_month['Statistics.# of Delays.Weather']);\n",
    "\n",
    "grouped_by_month = grouped_by_month.reset_index()\n",
    "\n",
    "airport_multivariate_prediction.fit(grouped_by_month[['Time.Year', 'sum_delays']].values, grouped_by_month['Statistics.Flights.Total'].values)\n"
   ]
  },
  {
   "cell_type": "code",
   "execution_count": 18,
   "metadata": {},
   "outputs": [
    {
     "name": "stdout",
     "output_type": "stream",
     "text": [
      "The predicted salary of an developer who has 2 years of experience, 9 score on the test, and a 6 interview score\n",
      "46346\n",
      "The predicted salary of an developer who has 12 years experience, 10 test score, and a 10 interview score\n",
      "96561\n"
     ]
    },
    {
     "data": {
      "image/png": "[encoded data removed]",
      "text/plain": [
       "<Figure size 640x480 with 1 Axes>"
      ]
     },
     "metadata": {},
     "output_type": "display_data"
    }
   ],
   "source": [
    "from math import floor\n",
    "from word2number import w2n\n",
    "import math\n",
    "\n",
    "hiring_df = pd.read_csv('hiring.csv')\n",
    "\n",
    "hiring_df['experience'] = hiring_df['experience'].fillna(value='zero')\n",
    "\n",
    "hiring_df['test_score(out of 10)'] = hiring_df['test_score(out of 10)'].fillna(floor(hiring_df['test_score(out of 10)'].mean()))\n",
    "\n",
    "\n",
    "hiring_df['experience'] = hiring_df['experience'].apply(lambda x: w2n.word_to_num(x))\n",
    "\n",
    "hiring_df['experience'] = hiring_df['experience'].replace(0, floor(hiring_df['experience'].mean()))\n",
    "\n",
    "\n",
    "hiring_model = linear_model.LinearRegression()\n",
    "\n",
    "hiring_model.fit(hiring_df[['experience', 'test_score(out of 10)', 'interview_score(out of 10)']].values, hiring_df['salary($)'].values)\n",
    "\n",
    "hiring_model.predict([[12, 10, 10]])\n",
    "\n",
    "%matplotlib inline\n",
    "\n",
    "plt.scatter(hiring_df[['experience']], hiring_df[['salary($)']])\n",
    "\n",
    "print('The predicted salary of an developer who has 2 years of experience, 9 score on the test, and a 6 interview score')\n",
    "\n",
    "print(round(hiring_model.predict([[2, 9, 6]])[0]))\n",
    "\n",
    "print('The predicted salary of an developer who has 12 years experience, 10 test score, and a 10 interview score')\n",
    "\n",
    "print(round(hiring_model.predict([[12, 10, 10]])[0]))\n",
    "\n"
   ]
  },
  {
   "attachments": {},
   "cell_type": "markdown",
   "metadata": {},
   "source": [
    "Gradient descent is an algorithm that helps you find the best fit line for a given training set"
   ]
  },
  {
   "attachments": {},
   "cell_type": "markdown",
   "metadata": {},
   "source": [
    "Reading in the CSV of test scores"
   ]
  },
  {
   "cell_type": "code",
   "execution_count": 19,
   "metadata": {},
   "outputs": [
    {
     "data": {
      "text/html": [
       "<div>\n",
       "<style scoped>\n",
       "    .dataframe tbody tr th:only-of-type {\n",
       "        vertical-align: middle;\n",
       "    }\n",
       "\n",
       "    .dataframe tbody tr th {\n",
       "        vertical-align: top;\n",
       "    }\n",
       "\n",
       "    .dataframe thead th {\n",
       "        text-align: right;\n",
       "    }\n",
       "</style>\n",
       "<table border=\"1\" class=\"dataframe\">\n",
       "  <thead>\n",
       "    <tr style=\"text-align: right;\">\n",
       "      <th></th>\n",
       "      <th>name</th>\n",
       "      <th>math</th>\n",
       "      <th>cs</th>\n",
       "    </tr>\n",
       "  </thead>\n",
       "  <tbody>\n",
       "    <tr>\n",
       "      <th>0</th>\n",
       "      <td>david</td>\n",
       "      <td>92</td>\n",
       "      <td>98</td>\n",
       "    </tr>\n",
       "    <tr>\n",
       "      <th>1</th>\n",
       "      <td>laura</td>\n",
       "      <td>56</td>\n",
       "      <td>68</td>\n",
       "    </tr>\n",
       "    <tr>\n",
       "      <th>2</th>\n",
       "      <td>sanjay</td>\n",
       "      <td>88</td>\n",
       "      <td>81</td>\n",
       "    </tr>\n",
       "    <tr>\n",
       "      <th>3</th>\n",
       "      <td>wei</td>\n",
       "      <td>70</td>\n",
       "      <td>80</td>\n",
       "    </tr>\n",
       "    <tr>\n",
       "      <th>4</th>\n",
       "      <td>jeff</td>\n",
       "      <td>80</td>\n",
       "      <td>83</td>\n",
       "    </tr>\n",
       "    <tr>\n",
       "      <th>5</th>\n",
       "      <td>aamir</td>\n",
       "      <td>49</td>\n",
       "      <td>52</td>\n",
       "    </tr>\n",
       "    <tr>\n",
       "      <th>6</th>\n",
       "      <td>venkat</td>\n",
       "      <td>65</td>\n",
       "      <td>66</td>\n",
       "    </tr>\n",
       "    <tr>\n",
       "      <th>7</th>\n",
       "      <td>virat</td>\n",
       "      <td>35</td>\n",
       "      <td>30</td>\n",
       "    </tr>\n",
       "    <tr>\n",
       "      <th>8</th>\n",
       "      <td>arthur</td>\n",
       "      <td>66</td>\n",
       "      <td>68</td>\n",
       "    </tr>\n",
       "    <tr>\n",
       "      <th>9</th>\n",
       "      <td>paul</td>\n",
       "      <td>67</td>\n",
       "      <td>73</td>\n",
       "    </tr>\n",
       "  </tbody>\n",
       "</table>\n",
       "</div>"
      ],
      "text/plain": [
       "     name  math  cs\n",
       "0   david    92  98\n",
       "1   laura    56  68\n",
       "2  sanjay    88  81\n",
       "3     wei    70  80\n",
       "4    jeff    80  83\n",
       "5   aamir    49  52\n",
       "6  venkat    65  66\n",
       "7   virat    35  30\n",
       "8  arthur    66  68\n",
       "9    paul    67  73"
      ]
     },
     "execution_count": 19,
     "metadata": {},
     "output_type": "execute_result"
    }
   ],
   "source": [
    "test_scores_df = pd.read_csv('test_scores.csv')\n",
    "test_scores_df"
   ]
  },
  {
   "attachments": {},
   "cell_type": "markdown",
   "metadata": {},
   "source": [
    "Creating a linear regression model to predict the cs score given a math score"
   ]
  },
  {
   "cell_type": "code",
   "execution_count": 20,
   "metadata": {},
   "outputs": [
    {
     "data": {
      "text/plain": [
       "Text(0.5, 1.0, 'Predicting Computer Science Scores given Math scores')"
      ]
     },
     "execution_count": 20,
     "metadata": {},
     "output_type": "execute_result"
    },
    {
     "data": {
      "image/png": "[encoded data removed]",
      "text/plain": [
       "<Figure size 640x480 with 1 Axes>"
      ]
     },
     "metadata": {},
     "output_type": "display_data"
    }
   ],
   "source": [
    "test_score_model = linear_model.LinearRegression()\n",
    "\n",
    "test_score_model.fit(test_scores_df[['math']].values, test_scores_df[['cs']].values)\n",
    "\n",
    "%matplotlib inline\n",
    "\n",
    "plt.scatter(test_scores_df[['math']], test_score_model.predict(test_scores_df[['cs']].values))\n",
    "plt.xlabel(\"Math Test Score\")\n",
    "plt.ylabel(\"Computer Science Test Score\")\n",
    "plt.title(\"Predicting Computer Science Scores given Math scores\")\n"
   ]
  },
  {
   "attachments": {},
   "cell_type": "markdown",
   "metadata": {},
   "source": [
    "Printing out the model coefficient and intercept"
   ]
  },
  {
   "cell_type": "code",
   "execution_count": 21,
   "metadata": {},
   "outputs": [
    {
     "data": {
      "text/plain": [
       "1.0177362378569326"
      ]
     },
     "execution_count": 21,
     "metadata": {},
     "output_type": "execute_result"
    }
   ],
   "source": [
    "test_score_model_coef = test_score_model.coef_[0][0]\n",
    "test_score_model_coef"
   ]
  },
  {
   "cell_type": "code",
   "execution_count": 22,
   "metadata": {},
   "outputs": [
    {
     "data": {
      "text/plain": [
       "1.9152193111569176"
      ]
     },
     "execution_count": 22,
     "metadata": {},
     "output_type": "execute_result"
    }
   ],
   "source": [
    "test_score_model.intercept_[0]"
   ]
  },
  {
   "attachments": {},
   "cell_type": "markdown",
   "metadata": {},
   "source": [
    "A gradient descent algorithm to compute a close enough value to the coefficient of the test_score_model"
   ]
  },
  {
   "cell_type": "code",
   "execution_count": 23,
   "metadata": {},
   "outputs": [],
   "source": [
    "from math import isclose\n",
    "\n",
    "def gradient_descent_test_scores(x, y, expected_coeff, expected_intercept) -> float:\n",
    "    print(type(x))\n",
    "    \"\"\"\n",
    "    Calculates the best fit line for the training set using the x and y coordinates\n",
    "\n",
    "    mean squared error = 1/n * ( summation(i = 1 to n) of (y_i - (m * x_i + b))**2 )\n",
    "    partial_derivative of m = 2/n * ( summation(i = 1 to n) of - x_i * (y_i - (m * x_i + b)) )\n",
    "    partial_derivative of b = 2/n * ( summation(i = 1 to n) of - (y_i - (m * x_i + b)) )\n",
    "\n",
    "    :param x: The x coordinates, nparray\n",
    "    :param y: The y coordinates, np array\n",
    "    :return: The best fit line for the training set\n",
    "    \"\"\"\n",
    "    m_curr = 0.00  # the slope\n",
    "    b_curr = 0.00  # the point\n",
    "    score = 0.00\n",
    "    max_iterations = 415533\n",
    "    learning_rate = 0.0002\n",
    "    iterations = 0\n",
    "    n = len(x)\n",
    "    while not isclose(m_curr, expected_coeff, rel_tol=1e-20) and not isclose(b_curr, expected_intercept,\n",
    "                                                                             rel_tol=1e-20) and iterations < max_iterations:\n",
    "        y_predicted = m_curr * x + b_curr  # predicts the next y\n",
    "        score = (1 / n) * sum([z ** 2 for z in (y - y_predicted)])\n",
    "        partial_derivative_m = -(2 / n) * sum(x * (y - y_predicted))\n",
    "        partial_derivative_b = -(2 / n) * sum(y - y_predicted)\n",
    "        m_curr = m_curr - (learning_rate * partial_derivative_m)\n",
    "        b_curr = b_curr - (learning_rate * partial_derivative_b)\n",
    "        iterations += 1\n",
    "        print('[m_curr {} expected_m {}] [b_curr {} expected_b {}] | score {} | iteration {}\\n'.format(m_curr,\n",
    "                                                                                                       expected_coeff,\n",
    "                                                                                                       b_curr,\n",
    "                                                                                                       expected_intercept,\n",
    "                                                                                                       score,\n",
    "                                                                                                       iterations))"
   ]
  },
  {
   "attachments": {},
   "cell_type": "markdown",
   "metadata": {},
   "source": [
    "We are going to export the model in 2 ways, one through pickle and the other through joblib"
   ]
  },
  {
   "cell_type": "code",
   "execution_count": 24,
   "metadata": {},
   "outputs": [
    {
     "name": "stdout",
     "output_type": "stream",
     "text": [
      "[[102.67110686]]\n",
      "[[102.67110686]]\n"
     ]
    },
    {
     "data": {
      "text/plain": [
       "'Loaded & Stored successfully with pickle!'"
      ]
     },
     "execution_count": 24,
     "metadata": {},
     "output_type": "execute_result"
    }
   ],
   "source": [
    "import pickle\n",
    "\n",
    "test_score_model_pickle = pd.read_csv('test_scores.csv')\n",
    "\n",
    "example_model = linear_model.LinearRegression()\n",
    "\n",
    "example_model.fit(test_score_model_pickle[['math']].values, test_score_model_pickle[['cs']].values)\n",
    "\n",
    "with open('test_scores_pickle', 'wb') as pickle_file:\n",
    "    pickle.dump(example_model, pickle_file)\n",
    "\n",
    "print(example_model.predict([[99]]))\n",
    "\n",
    "loaded_model = None\n",
    "\n",
    "with open('test_scores_pickle', 'rb') as read_model:\n",
    "    loaded_model = pickle.load(read_model)\n",
    "\n",
    "loaded_model\n",
    "\n",
    "print(loaded_model.predict([[99]]))\n",
    "\n",
    "x = 'Loaded & Stored successfully with pickle!' if loaded_model.predict([[99]])[0][0] == example_model.predict([[99]])[0][0] else 'Failed to load/store'\n",
    "\n",
    "x\n"
   ]
  },
  {
   "cell_type": "code",
   "execution_count": 25,
   "metadata": {},
   "outputs": [
    {
     "data": {
      "text/plain": [
       "'Loaded & Stored successfully with joblib!'"
      ]
     },
     "execution_count": 25,
     "metadata": {},
     "output_type": "execute_result"
    }
   ],
   "source": [
    "import joblib\n",
    "\n",
    "test_score_model_joblib = pd.read_csv('test_scores.csv')\n",
    "\n",
    "joblib_model = linear_model.LinearRegression()\n",
    "\n",
    "joblib_model.fit(test_score_model_joblib[['math']].values, test_score_model_joblib[['cs']].values)\n",
    "\n",
    "with open('test_scores_joblib', 'wb') as joblib_file:\n",
    "    joblib.dump(joblib_model, joblib_file)\n",
    "\n",
    "loaded_model = None\n",
    "\n",
    "with open('test_scores_joblib', 'rb') as joblib_loaded_model:\n",
    "    loaded_model = joblib.load(joblib_loaded_model)\n",
    "\n",
    "\n",
    "x = 'Loaded & Stored successfully with joblib!' if joblib_model.predict([[99]]) == loaded_model.predict([[99]]) else 'Failed to load/store joblib'    \n",
    "\n",
    "x"
   ]
  },
  {
   "cell_type": "code",
   "execution_count": 40,
   "metadata": {},
   "outputs": [
    {
     "data": {
      "text/html": [
       "<div>\n",
       "<style scoped>\n",
       "    .dataframe tbody tr th:only-of-type {\n",
       "        vertical-align: middle;\n",
       "    }\n",
       "\n",
       "    .dataframe tbody tr th {\n",
       "        vertical-align: top;\n",
       "    }\n",
       "\n",
       "    .dataframe thead th {\n",
       "        text-align: right;\n",
       "    }\n",
       "</style>\n",
       "<table border=\"1\" class=\"dataframe\">\n",
       "  <thead>\n",
       "    <tr style=\"text-align: right;\">\n",
       "      <th></th>\n",
       "      <th>area</th>\n",
       "      <th>price</th>\n",
       "      <th>town_monroe township</th>\n",
       "      <th>town_robinsville</th>\n",
       "    </tr>\n",
       "  </thead>\n",
       "  <tbody>\n",
       "    <tr>\n",
       "      <th>0</th>\n",
       "      <td>2600</td>\n",
       "      <td>550000</td>\n",
       "      <td>1</td>\n",
       "      <td>0</td>\n",
       "    </tr>\n",
       "    <tr>\n",
       "      <th>1</th>\n",
       "      <td>3000</td>\n",
       "      <td>565000</td>\n",
       "      <td>1</td>\n",
       "      <td>0</td>\n",
       "    </tr>\n",
       "    <tr>\n",
       "      <th>2</th>\n",
       "      <td>3200</td>\n",
       "      <td>610000</td>\n",
       "      <td>1</td>\n",
       "      <td>0</td>\n",
       "    </tr>\n",
       "    <tr>\n",
       "      <th>3</th>\n",
       "      <td>3600</td>\n",
       "      <td>680000</td>\n",
       "      <td>1</td>\n",
       "      <td>0</td>\n",
       "    </tr>\n",
       "    <tr>\n",
       "      <th>4</th>\n",
       "      <td>4000</td>\n",
       "      <td>725000</td>\n",
       "      <td>1</td>\n",
       "      <td>0</td>\n",
       "    </tr>\n",
       "    <tr>\n",
       "      <th>5</th>\n",
       "      <td>2600</td>\n",
       "      <td>585000</td>\n",
       "      <td>0</td>\n",
       "      <td>0</td>\n",
       "    </tr>\n",
       "    <tr>\n",
       "      <th>6</th>\n",
       "      <td>2800</td>\n",
       "      <td>615000</td>\n",
       "      <td>0</td>\n",
       "      <td>0</td>\n",
       "    </tr>\n",
       "    <tr>\n",
       "      <th>7</th>\n",
       "      <td>3300</td>\n",
       "      <td>650000</td>\n",
       "      <td>0</td>\n",
       "      <td>0</td>\n",
       "    </tr>\n",
       "    <tr>\n",
       "      <th>8</th>\n",
       "      <td>3600</td>\n",
       "      <td>710000</td>\n",
       "      <td>0</td>\n",
       "      <td>0</td>\n",
       "    </tr>\n",
       "    <tr>\n",
       "      <th>9</th>\n",
       "      <td>2600</td>\n",
       "      <td>575000</td>\n",
       "      <td>0</td>\n",
       "      <td>1</td>\n",
       "    </tr>\n",
       "    <tr>\n",
       "      <th>10</th>\n",
       "      <td>2900</td>\n",
       "      <td>600000</td>\n",
       "      <td>0</td>\n",
       "      <td>1</td>\n",
       "    </tr>\n",
       "    <tr>\n",
       "      <th>11</th>\n",
       "      <td>3100</td>\n",
       "      <td>620000</td>\n",
       "      <td>0</td>\n",
       "      <td>1</td>\n",
       "    </tr>\n",
       "    <tr>\n",
       "      <th>12</th>\n",
       "      <td>3600</td>\n",
       "      <td>695000</td>\n",
       "      <td>0</td>\n",
       "      <td>1</td>\n",
       "    </tr>\n",
       "  </tbody>\n",
       "</table>\n",
       "</div>"
      ],
      "text/plain": [
       "    area   price  town_monroe township  town_robinsville\n",
       "0   2600  550000                     1                 0\n",
       "1   3000  565000                     1                 0\n",
       "2   3200  610000                     1                 0\n",
       "3   3600  680000                     1                 0\n",
       "4   4000  725000                     1                 0\n",
       "5   2600  585000                     0                 0\n",
       "6   2800  615000                     0                 0\n",
       "7   3300  650000                     0                 0\n",
       "8   3600  710000                     0                 0\n",
       "9   2600  575000                     0                 1\n",
       "10  2900  600000                     0                 1\n",
       "11  3100  620000                     0                 1\n",
       "12  3600  695000                     0                 1"
      ]
     },
     "execution_count": 40,
     "metadata": {},
     "output_type": "execute_result"
    }
   ],
   "source": [
    "home_prices_dummy_df = pd.read_csv('homeprices.csv')\n",
    "\n",
    "home_dummies = pd.get_dummies(home_prices_dummy_df[['town']])\n",
    "\n",
    "home_dummies\n",
    "\n",
    "merged_home_prices = pd.concat([home_prices_dummy_df, home_dummies], axis='columns')\n",
    "\n",
    "merged_home_prices = merged_home_prices.drop(columns=['town', 'town_west windsor'])\n",
    "\n",
    "merged_home_prices\n",
    "\n",
    "merged_home_prices_model = linear_model.LinearRegression()\n",
    "\n",
    "x = merged_home_prices.drop(columns=['price']).values\n",
    "\n",
    "y = merged_home_prices[['price']].values\n",
    "\n",
    "merged_home_prices_model.fit(x, y)\n",
    "\n",
    "merged_home_prices_model.predict([[2800, 0, 1]])\n",
    "\n",
    "merged_home_prices_model.predict([[3400, 0, 0]])\n",
    "\n",
    "merged_home_prices_model.score(x, y)\n",
    "\n",
    "merged_home_prices"
   ]
  },
  {
   "cell_type": "code",
   "execution_count": 41,
   "metadata": {},
   "outputs": [],
   "source": [
    "from sklearn.preprocessing import LabelEncoder\n",
    "\n",
    "le = LabelEncoder()"
   ]
  },
  {
   "cell_type": "code",
   "execution_count": 48,
   "metadata": {},
   "outputs": [
    {
     "name": "stderr",
     "output_type": "stream",
     "text": [
      "c:\\Users\\flyin\\anaconda3\\lib\\site-packages\\sklearn\\preprocessing\\_label.py:115: DataConversionWarning: A column-vector y was passed when a 1d array was expected. Please change the shape of y to (n_samples, ), for example using ravel().\n",
      "  y = column_or_1d(y, warn=True)\n"
     ]
    },
    {
     "data": {
      "text/html": [
       "<div>\n",
       "<style scoped>\n",
       "    .dataframe tbody tr th:only-of-type {\n",
       "        vertical-align: middle;\n",
       "    }\n",
       "\n",
       "    .dataframe tbody tr th {\n",
       "        vertical-align: top;\n",
       "    }\n",
       "\n",
       "    .dataframe thead th {\n",
       "        text-align: right;\n",
       "    }\n",
       "</style>\n",
       "<table border=\"1\" class=\"dataframe\">\n",
       "  <thead>\n",
       "    <tr style=\"text-align: right;\">\n",
       "      <th></th>\n",
       "      <th>town</th>\n",
       "      <th>area</th>\n",
       "      <th>price</th>\n",
       "    </tr>\n",
       "  </thead>\n",
       "  <tbody>\n",
       "    <tr>\n",
       "      <th>0</th>\n",
       "      <td>0</td>\n",
       "      <td>2600</td>\n",
       "      <td>550000</td>\n",
       "    </tr>\n",
       "    <tr>\n",
       "      <th>1</th>\n",
       "      <td>0</td>\n",
       "      <td>3000</td>\n",
       "      <td>565000</td>\n",
       "    </tr>\n",
       "    <tr>\n",
       "      <th>2</th>\n",
       "      <td>0</td>\n",
       "      <td>3200</td>\n",
       "      <td>610000</td>\n",
       "    </tr>\n",
       "    <tr>\n",
       "      <th>3</th>\n",
       "      <td>0</td>\n",
       "      <td>3600</td>\n",
       "      <td>680000</td>\n",
       "    </tr>\n",
       "    <tr>\n",
       "      <th>4</th>\n",
       "      <td>0</td>\n",
       "      <td>4000</td>\n",
       "      <td>725000</td>\n",
       "    </tr>\n",
       "    <tr>\n",
       "      <th>5</th>\n",
       "      <td>2</td>\n",
       "      <td>2600</td>\n",
       "      <td>585000</td>\n",
       "    </tr>\n",
       "    <tr>\n",
       "      <th>6</th>\n",
       "      <td>2</td>\n",
       "      <td>2800</td>\n",
       "      <td>615000</td>\n",
       "    </tr>\n",
       "    <tr>\n",
       "      <th>7</th>\n",
       "      <td>2</td>\n",
       "      <td>3300</td>\n",
       "      <td>650000</td>\n",
       "    </tr>\n",
       "    <tr>\n",
       "      <th>8</th>\n",
       "      <td>2</td>\n",
       "      <td>3600</td>\n",
       "      <td>710000</td>\n",
       "    </tr>\n",
       "    <tr>\n",
       "      <th>9</th>\n",
       "      <td>1</td>\n",
       "      <td>2600</td>\n",
       "      <td>575000</td>\n",
       "    </tr>\n",
       "    <tr>\n",
       "      <th>10</th>\n",
       "      <td>1</td>\n",
       "      <td>2900</td>\n",
       "      <td>600000</td>\n",
       "    </tr>\n",
       "    <tr>\n",
       "      <th>11</th>\n",
       "      <td>1</td>\n",
       "      <td>3100</td>\n",
       "      <td>620000</td>\n",
       "    </tr>\n",
       "    <tr>\n",
       "      <th>12</th>\n",
       "      <td>1</td>\n",
       "      <td>3600</td>\n",
       "      <td>695000</td>\n",
       "    </tr>\n",
       "  </tbody>\n",
       "</table>\n",
       "</div>"
      ],
      "text/plain": [
       "    town  area   price\n",
       "0      0  2600  550000\n",
       "1      0  3000  565000\n",
       "2      0  3200  610000\n",
       "3      0  3600  680000\n",
       "4      0  4000  725000\n",
       "5      2  2600  585000\n",
       "6      2  2800  615000\n",
       "7      2  3300  650000\n",
       "8      2  3600  710000\n",
       "9      1  2600  575000\n",
       "10     1  2900  600000\n",
       "11     1  3100  620000\n",
       "12     1  3600  695000"
      ]
     },
     "execution_count": 48,
     "metadata": {},
     "output_type": "execute_result"
    }
   ],
   "source": [
    "dfle = home_prices_dummy_df\n",
    "\n",
    "dfle['town'] = le.fit_transform(dfle[['town']])\n",
    "\n",
    "dfle"
   ]
  },
  {
   "cell_type": "code",
   "execution_count": 82,
   "metadata": {},
   "outputs": [
    {
     "data": {
      "text/plain": [
       "array([[   0, 2600],\n",
       "       [   0, 3000],\n",
       "       [   0, 3200],\n",
       "       [   0, 3600],\n",
       "       [   0, 4000],\n",
       "       [   2, 2600],\n",
       "       [   2, 2800],\n",
       "       [   2, 3300],\n",
       "       [   2, 3600],\n",
       "       [   1, 2600],\n",
       "       [   1, 2900],\n",
       "       [   1, 3100],\n",
       "       [   1, 3600]], dtype=int64)"
      ]
     },
     "execution_count": 82,
     "metadata": {},
     "output_type": "execute_result"
    }
   ],
   "source": [
    "dfle_x = dfle[['town', 'area']].values\n",
    "\n",
    "dfle_x"
   ]
  },
  {
   "cell_type": "code",
   "execution_count": 63,
   "metadata": {},
   "outputs": [
    {
     "data": {
      "text/plain": [
       "array([[550000],\n",
       "       [565000],\n",
       "       [610000],\n",
       "       [680000],\n",
       "       [725000],\n",
       "       [585000],\n",
       "       [615000],\n",
       "       [650000],\n",
       "       [710000],\n",
       "       [575000],\n",
       "       [600000],\n",
       "       [620000],\n",
       "       [695000]], dtype=int64)"
      ]
     },
     "execution_count": 63,
     "metadata": {},
     "output_type": "execute_result"
    }
   ],
   "source": [
    "dfle_y = dfle[['price']].values\n",
    "\n",
    "dfle_y"
   ]
  },
  {
   "cell_type": "code",
   "execution_count": 90,
   "metadata": {},
   "outputs": [],
   "source": [
    "from sklearn.preprocessing import OneHotEncoder\n",
    "from sklearn.compose import ColumnTransformer\n",
    "\n",
    "ohe = ColumnTransformer([('town', OneHotEncoder(), [0])], remainder='passthrough')\n"
   ]
  },
  {
   "cell_type": "code",
   "execution_count": 96,
   "metadata": {},
   "outputs": [
    {
     "data": {
      "text/plain": [
       "array([[0.0e+00, 0.0e+00, 2.6e+03],\n",
       "       [0.0e+00, 0.0e+00, 3.0e+03],\n",
       "       [0.0e+00, 0.0e+00, 3.2e+03],\n",
       "       [0.0e+00, 0.0e+00, 3.6e+03],\n",
       "       [0.0e+00, 0.0e+00, 4.0e+03],\n",
       "       [0.0e+00, 1.0e+00, 2.6e+03],\n",
       "       [0.0e+00, 1.0e+00, 2.8e+03],\n",
       "       [0.0e+00, 1.0e+00, 3.3e+03],\n",
       "       [0.0e+00, 1.0e+00, 3.6e+03],\n",
       "       [1.0e+00, 0.0e+00, 2.6e+03],\n",
       "       [1.0e+00, 0.0e+00, 2.9e+03],\n",
       "       [1.0e+00, 0.0e+00, 3.1e+03],\n",
       "       [1.0e+00, 0.0e+00, 3.6e+03]])"
      ]
     },
     "execution_count": 96,
     "metadata": {},
     "output_type": "execute_result"
    }
   ],
   "source": [
    "dfle_ohe_x = ohe.fit_transform(dfle_x)\n",
    "\n",
    "dfle_ohe_x\n",
    "\n",
    "dfle_ohe_x = dfle_ohe_x[:,1:]\n",
    "\n",
    "dfle_ohe_x"
   ]
  },
  {
   "cell_type": "code",
   "execution_count": 97,
   "metadata": {},
   "outputs": [
    {
     "data": {
      "text/plain": [
       "LinearRegression()"
      ]
     },
     "execution_count": 97,
     "metadata": {},
     "output_type": "execute_result"
    }
   ],
   "source": [
    "dfle_model = linear_model.LinearRegression()\n",
    "\n",
    "dfle_model.fit(dfle_ohe_x, dfle_y)"
   ]
  },
  {
   "cell_type": "code",
   "execution_count": 99,
   "metadata": {},
   "outputs": [
    {
     "data": {
      "text/plain": [
       "array([[590775.63964739]])"
      ]
     },
     "execution_count": 99,
     "metadata": {},
     "output_type": "execute_result"
    }
   ],
   "source": [
    "dfle_model.predict([[1, 0, 2800]])"
   ]
  },
  {
   "cell_type": "code",
   "execution_count": 100,
   "metadata": {},
   "outputs": [
    {
     "data": {
      "text/plain": [
       "array([[681241.6684584]])"
      ]
     },
     "execution_count": 100,
     "metadata": {},
     "output_type": "execute_result"
    }
   ],
   "source": [
    "dfle_model.predict([[0, 1, 3400]])"
   ]
  }
 ],
 "metadata": {
  "kernelspec": {
   "display_name": "base",
   "language": "python",
   "name": "python3"
  },
  "language_info": {
   "codemirror_mode": {
    "name": "ipython",
    "version": 3
   },
   "file_extension": ".py",
   "mimetype": "text/x-python",
   "name": "python",
   "nbconvert_exporter": "python",
   "pygments_lexer": "ipython3",
   "version": "3.9.13"
  },
  "orig_nbformat": 4,
  "vscode": {
   "interpreter": {
    "hash": "6dae9bdf0180e44c236a61e19872d2fc1564cb05875266897c1e7580d789c214"
   }
  }
 },
 "nbformat": 4,
 "nbformat_minor": 2
}
