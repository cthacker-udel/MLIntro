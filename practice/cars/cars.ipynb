{
 "cells": [
  {
   "attachments": {},
   "cell_type": "markdown",
   "metadata": {},
   "source": [
    "This is practicing what I've learned so far with a dataset about cars. I learned about LinearRegression, OneHotEncoding, LogisticRegression, Nominal, Ordinal, and Categorical variables. Nominal being an \"ordered\" set of variables, like educational degrees. BS < MS < PHD. Ordinal being an inherently ordered section, such as in feedback forms, when you are asked how you are feeling, we can represent 1 as very good and 5 as very bad, for example. Categorical variables are variables whose value will always stay the same in that category, Continuous variables are variables where the values are constantly changing, such as with temperature. One-Hot-Encoding is the process of representing otherwise non-numerical values, numerically. Such as in my previous implementations, I represented car models with One-Hot Encoding by mapping the Mercedes-Benz, and BMW to 1 and 0, depending on which car contained that value. Those types of column data are otherwise considered \"dummy variables\". LinearRegression is the process of representing a graph as x's of one value, and y's of another value, and predicting what the x value will be given the y, and vice-versa. It is a form of machine learning value,  is calculates this prediction by generating a best-fit line, and mapping out the values on that line. We can manually find the best-fit line by using the gradient-descent algorithm that I have implemented in python already. "
   ]
  },
  {
   "cell_type": "code",
   "execution_count": null,
   "metadata": {},
   "outputs": [],
   "source": [
    "import pandas as pd\n",
    "import numpy as np\n",
    "import matplotlib.pyplot as plt"
   ]
  }
 ],
 "metadata": {
  "kernelspec": {
   "display_name": "base",
   "language": "python",
   "name": "python3"
  },
  "language_info": {
   "name": "python",
   "version": "3.9.13"
  },
  "orig_nbformat": 4,
  "vscode": {
   "interpreter": {
    "hash": "6dae9bdf0180e44c236a61e19872d2fc1564cb05875266897c1e7580d789c214"
   }
  }
 },
 "nbformat": 4,
 "nbformat_minor": 2
}
