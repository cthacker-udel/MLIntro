{
 "cells": [
  {
   "attachments": {},
   "cell_type": "markdown",
   "metadata": {},
   "source": [
    "This is my first notebook in quite a while, did some full-stack work as well as develop applications for a company. That has taken the majority of my time, I haven't been able to get back into machine learning for a little bit, hopefully some of my knowledge is still there, always excited to re-learn it, as the pathways are there, they just need to be refreshed.\n",
    "\n",
    "Some things I've been up to:\n",
    "\n",
    "- I started a new repo, one of my top full-stack applications, I called it buckles chat, after my pet cat.\n",
    "  - https://github.com/cthacker-udel/BucklesChat\n",
    "  - https://github.com/cthacker-udel/BucklesChatService\n",
    "    - This was a very ambitious project, was a lot to take on, involved making an attempt at discord from scratch, using one of my most favorite frameworks [NextJS](https://nextjs.org/), and express for the backend. It was a lot to take on admittedly, I had to integrate 3 different databases into the application (Postgresql, MongoDB, Redis) and also integrate them all in nodejs without any hiccups. I had to finally tackle my avoidance of json web tokens, and it turned out to be extremely easy to implement, along with a full-fledged session library as well. This involved implementing complex middleware manually into the application. I used redis for managing user online status and also managing login throttling logic (which was fun to implement from scratch). This caused lots of time being devoted to developing because making this application was a blast. I had a moment where I completely refactored the structure of my database, involving switching all the foreign keys, and multiple column types as well. I used `sequelize` to handle all the postgres query generation, as doing that manually was difficult along with tedious when I could utilize an ORM to achieve the same functionality, those exist and are widely used (entity framework for example) I actually created a strong backend initially in C#, using ASP.Net core to achieve it, and it was working, but then I ran into the issue of figuring out how to deploy it, and that caused me to instantly transfer the entire backend to typescript using expressJS to handle all api functionality.\n",
    "- Besides this project, I was moved from a project to head and complete an entire project on my own at work, without any assistance whatsoever, so that has been a challenge to complete and see it to the end. It involves RPA and C#, interesting work.\n",
    "\n",
    "Besides all of that, let's get to our first notebook, processing HR competency scores used for screening."
   ]
  },
  {
   "attachments": {},
   "cell_type": "markdown",
   "metadata": {},
   "source": [
    "## Dataset"
   ]
  },
  {
   "attachments": {},
   "cell_type": "markdown",
   "metadata": {},
   "source": [
    "Our dataset comprises of competency screening data for each candidate, which holds for example their years of experience, their top_1 skills score, their top2_behavior score, and whether they were called for an interview (most likely offered the job), this is actually something I can see being used in companies, and something that plays a role in lots of company's hiring processes."
   ]
  },
  {
   "cell_type": "code",
   "execution_count": 35,
   "metadata": {},
   "outputs": [],
   "source": [
    "# Imports\n",
    "\n",
    "import pandas as pd\n",
    "import matplotlib.pyplot as plt\n",
    "import seaborn as sns"
   ]
  },
  {
   "cell_type": "code",
   "execution_count": 36,
   "metadata": {},
   "outputs": [
    {
     "data": {
      "text/plain": [
       "(300, 10)"
      ]
     },
     "execution_count": 36,
     "metadata": {},
     "output_type": "execute_result"
    }
   ],
   "source": [
    "# Load in the dataset\n",
    "\n",
    "hr_competency_screening_data = pd.read_csv('./dataset.csv')\n",
    "\n",
    "hr_competency_screening_data.shape\n",
    "\n",
    "# We have 300 rows to work with, so splitting will play a major factor in whether we over-train or under-train our model"
   ]
  },
  {
   "cell_type": "code",
   "execution_count": 37,
   "metadata": {},
   "outputs": [
    {
     "data": {
      "text/plain": [
       "years_of_experience            float64\n",
       "functional_competency_score    float64\n",
       "top1_skills_score              float64\n",
       "top2_skills_score              float64\n",
       "top3_skills_score              float64\n",
       "behavior_competency_score      float64\n",
       "top1_behavior_skill_score      float64\n",
       "top2_behavior_skill_score      float64\n",
       "top3_behavior_skill_score      float64\n",
       "call_for_interview               int64\n",
       "dtype: object"
      ]
     },
     "execution_count": 37,
     "metadata": {},
     "output_type": "execute_result"
    }
   ],
   "source": [
    "# Let's examine the columns datatypes\n",
    "\n",
    "hr_competency_screening_data.dtypes\n",
    "\n",
    "# It looks like we have majority float64 data type, and our target column is type integer"
   ]
  },
  {
   "cell_type": "code",
   "execution_count": 38,
   "metadata": {},
   "outputs": [
    {
     "data": {
      "text/plain": [
       "(0    1\n",
       " 1    0\n",
       " 2    0\n",
       " 3    0\n",
       " 4    1\n",
       " Name: call_for_interview, dtype: int64,\n",
       " dtype('int64'))"
      ]
     },
     "execution_count": 38,
     "metadata": {},
     "output_type": "execute_result"
    }
   ],
   "source": [
    "# We can remove the target column and make a data tables of just the features (columns we are using to make the prediction)\n",
    "\n",
    "target = hr_competency_screening_data['call_for_interview']\n",
    "\n",
    "(target.head(), target.dtype)\n",
    "\n",
    "# As you can see here, we got the correct column into the target variable, and the datatype matches up, int64."
   ]
  },
  {
   "cell_type": "code",
   "execution_count": 39,
   "metadata": {},
   "outputs": [
    {
     "data": {
      "text/plain": [
       "(Index(['years_of_experience', 'functional_competency_score',\n",
       "        'top1_skills_score', 'top2_skills_score', 'top3_skills_score',\n",
       "        'behavior_competency_score', 'top1_behavior_skill_score',\n",
       "        'top2_behavior_skill_score', 'top3_behavior_skill_score'],\n",
       "       dtype='object'),\n",
       " (300, 9))"
      ]
     },
     "execution_count": 39,
     "metadata": {},
     "output_type": "execute_result"
    }
   ],
   "source": [
    "# Now, let's compile the feature dataframe\n",
    "\n",
    "potential_features = hr_competency_screening_data.drop(columns=['call_for_interview'])\n",
    "\n",
    "\n",
    "(potential_features.columns, potential_features.shape)\n",
    "\n",
    "# As you can see, having a shape of 300 rows and 9 columns means that we dropped the target column from the dataset"
   ]
  },
  {
   "cell_type": "code",
   "execution_count": 47,
   "metadata": {},
   "outputs": [
    {
     "data": {
      "text/plain": [
       "Text(0.5, 0, 'Years of Experience')"
      ]
     },
     "execution_count": 47,
     "metadata": {},
     "output_type": "execute_result"
    },
    {
     "data": {
      "image/png": "[encoded data removed]",
      "text/plain": [
       "<Figure size 640x480 with 1 Axes>"
      ]
     },
     "metadata": {},
     "output_type": "display_data"
    }
   ],
   "source": [
    "# Lets make a histogram of the frequency of years_of_experience\n",
    "\n",
    "potential_features_axes = sns.histplot(potential_features['years_of_experience'], stat='count')\n",
    "\n",
    "potential_features_axes.set_xlabel(\"Years of Experience\")"
   ]
  },
  {
   "attachments": {},
   "cell_type": "markdown",
   "metadata": {},
   "source": [
    "As we can see from this chart, the majority of applicants don't even have close to half a year of experience, so that will be a major contributing factor into our predictions, also, there seems to be a major cutoff when the years of experience hit 0.5 (aka half a year), so maybe we could group all values >= 0.5 into one category to maybe balance out the proportions, let's try that out."
   ]
  },
  {
   "cell_type": "code",
   "execution_count": 72,
   "metadata": {},
   "outputs": [
    {
     "data": {
      "text/plain": [
       "'10.0% of the applicants have more then half a year of experience'"
      ]
     },
     "execution_count": 72,
     "metadata": {},
     "output_type": "execute_result"
    }
   ],
   "source": [
    "potential_features['expert_years_of_experience'] = potential_features['years_of_experience'].map(lambda x: x >= 0.5)\n",
    "\n",
    "expert_years = potential_features[potential_features['expert_years_of_experience'] == True]\n",
    "non_expert_years = potential_features[potential_features['expert_years_of_experience'] == False]\n",
    "\n",
    "percentage_of_experts = (expert_years.shape[0] + non_expert_years.shape[0]) / expert_years.shape[0]\n",
    "\n",
    "f'{percentage_of_experts}% of the applicants have more then half a year of experience'"
   ]
  },
  {
   "attachments": {},
   "cell_type": "markdown",
   "metadata": {},
   "source": [
    "The fact that only 10% of applicants in this dataset have more then half a year of experience shows either a desirability, or a scarcity, as most of the people did not have the proper experience for the job. This paints an interesting picture in this small dataset. It is mostly comprised of people who did not have a lot of experience with the skills required for this job, and they applied anyway. As we dig more into this dataset, we can explore maybe how they managed when recruiting/deciding whether to hire people with more then half a year of relative experience. Let's graph the frequency of that small subset into another histogram."
   ]
  },
  {
   "cell_type": "code",
   "execution_count": 77,
   "metadata": {},
   "outputs": [
    {
     "data": {
      "text/plain": [
       "<AxesSubplot:xlabel='years_of_experience', ylabel='Count'>"
      ]
     },
     "execution_count": 77,
     "metadata": {},
     "output_type": "execute_result"
    },
    {
     "data": {
      "image/png": "[encoded data removed]",
      "text/plain": [
       "<Figure size 640x480 with 1 Axes>"
      ]
     },
     "metadata": {},
     "output_type": "display_data"
    }
   ],
   "source": [
    "sns.histplot(expert_years['years_of_experience'], stat='count')"
   ]
  },
  {
   "attachments": {},
   "cell_type": "markdown",
   "metadata": {},
   "source": [
    "This histogram gives us a good idea of the count of each of the years of experience among the small 10% subset that has half or more of a year of experience. There seems to be barely any applicants that have a year of experience, only about 3 out of the 300 applicants had a full year of experience. This puts into perspective really how absurd the assumption is that everyone applying for a job has all the qualifications completely satisfied. The majority of applicants seem to have a range from 0.5 --> 0.69 and 0.76 --> 0.92. We can sate that the small dip in the graph is relatively a small part of the totality of the graph (only about 0.05 years)"
   ]
  }
 ],
 "metadata": {
  "kernelspec": {
   "display_name": "base",
   "language": "python",
   "name": "python3"
  },
  "language_info": {
   "codemirror_mode": {
    "name": "ipython",
    "version": 3
   },
   "file_extension": ".py",
   "mimetype": "text/x-python",
   "name": "python",
   "nbconvert_exporter": "python",
   "pygments_lexer": "ipython3",
   "version": "3.9.13"
  },
  "orig_nbformat": 4
 },
 "nbformat": 4,
 "nbformat_minor": 2
}
