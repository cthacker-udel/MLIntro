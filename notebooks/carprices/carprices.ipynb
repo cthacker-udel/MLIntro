{
 "cells": [
  {
   "cell_type": "code",
   "execution_count": 259,
   "metadata": {},
   "outputs": [],
   "source": [
    "import pandas as pd\n",
    "import numpy as np"
   ]
  },
  {
   "cell_type": "code",
   "execution_count": 260,
   "metadata": {},
   "outputs": [
    {
     "data": {
      "text/html": [
       "<div>\n",
       "<style scoped>\n",
       "    .dataframe tbody tr th:only-of-type {\n",
       "        vertical-align: middle;\n",
       "    }\n",
       "\n",
       "    .dataframe tbody tr th {\n",
       "        vertical-align: top;\n",
       "    }\n",
       "\n",
       "    .dataframe thead th {\n",
       "        text-align: right;\n",
       "    }\n",
       "</style>\n",
       "<table border=\"1\" class=\"dataframe\">\n",
       "  <thead>\n",
       "    <tr style=\"text-align: right;\">\n",
       "      <th></th>\n",
       "      <th>year</th>\n",
       "      <th>mileage</th>\n",
       "      <th>price</th>\n",
       "    </tr>\n",
       "  </thead>\n",
       "  <tbody>\n",
       "    <tr>\n",
       "      <th>count</th>\n",
       "      <td>10000.000000</td>\n",
       "      <td>10000.00000</td>\n",
       "      <td>10000.000000</td>\n",
       "    </tr>\n",
       "    <tr>\n",
       "      <th>mean</th>\n",
       "      <td>2013.828000</td>\n",
       "      <td>55798.05900</td>\n",
       "      <td>29376.222000</td>\n",
       "    </tr>\n",
       "    <tr>\n",
       "      <th>std</th>\n",
       "      <td>2.627376</td>\n",
       "      <td>25128.85138</td>\n",
       "      <td>11660.361084</td>\n",
       "    </tr>\n",
       "    <tr>\n",
       "      <th>min</th>\n",
       "      <td>2010.000000</td>\n",
       "      <td>10284.00000</td>\n",
       "      <td>10022.000000</td>\n",
       "    </tr>\n",
       "    <tr>\n",
       "      <th>25%</th>\n",
       "      <td>2011.000000</td>\n",
       "      <td>35137.50000</td>\n",
       "      <td>19071.250000</td>\n",
       "    </tr>\n",
       "    <tr>\n",
       "      <th>50%</th>\n",
       "      <td>2014.000000</td>\n",
       "      <td>55739.50000</td>\n",
       "      <td>29418.500000</td>\n",
       "    </tr>\n",
       "    <tr>\n",
       "      <th>75%</th>\n",
       "      <td>2016.000000</td>\n",
       "      <td>77193.75000</td>\n",
       "      <td>39133.500000</td>\n",
       "    </tr>\n",
       "    <tr>\n",
       "      <th>max</th>\n",
       "      <td>2018.000000</td>\n",
       "      <td>99783.00000</td>\n",
       "      <td>49998.000000</td>\n",
       "    </tr>\n",
       "  </tbody>\n",
       "</table>\n",
       "</div>"
      ],
      "text/plain": [
       "               year      mileage         price\n",
       "count  10000.000000  10000.00000  10000.000000\n",
       "mean    2013.828000  55798.05900  29376.222000\n",
       "std        2.627376  25128.85138  11660.361084\n",
       "min     2010.000000  10284.00000  10022.000000\n",
       "25%     2011.000000  35137.50000  19071.250000\n",
       "50%     2014.000000  55739.50000  29418.500000\n",
       "75%     2016.000000  77193.75000  39133.500000\n",
       "max     2018.000000  99783.00000  49998.000000"
      ]
     },
     "execution_count": 260,
     "metadata": {},
     "output_type": "execute_result"
    }
   ],
   "source": [
    "car_prices = pd.read_csv('./car_prices.csv')\n",
    "car_prices_train = pd.read_csv('./car_prices_train.csv')\n",
    "car_prices_test = pd.read_csv('./car_prices_test.csv')\n",
    "\n",
    "car_prices.describe()"
   ]
  },
  {
   "cell_type": "code",
   "execution_count": 261,
   "metadata": {},
   "outputs": [
    {
     "data": {
      "text/plain": [
       "make       object\n",
       "model      object\n",
       "year        int64\n",
       "mileage     int64\n",
       "price       int64\n",
       "color      object\n",
       "state      object\n",
       "date       object\n",
       "dtype: object"
      ]
     },
     "execution_count": 261,
     "metadata": {},
     "output_type": "execute_result"
    }
   ],
   "source": [
    "car_prices.dtypes"
   ]
  },
  {
   "cell_type": "code",
   "execution_count": 262,
   "metadata": {},
   "outputs": [
    {
     "data": {
      "text/plain": [
       "(['make', 'model', 'color', 'state', 'date'], ['year', 'mileage', 'price'])"
      ]
     },
     "execution_count": 262,
     "metadata": {},
     "output_type": "execute_result"
    }
   ],
   "source": [
    "categorical_columns = [col for col in car_prices.columns if car_prices[col].dtype == 'object']\n",
    "numerical_columns= [col for col in car_prices.columns if car_prices[col].dtype in ['int64', 'float64']]\n",
    "\n",
    "categorical_columns, numerical_columns"
   ]
  },
  {
   "cell_type": "code",
   "execution_count": 263,
   "metadata": {},
   "outputs": [
    {
     "data": {
      "text/plain": [
       "[]"
      ]
     },
     "execution_count": 263,
     "metadata": {},
     "output_type": "execute_result"
    }
   ],
   "source": [
    "## compute the # of nan values\n",
    "\n",
    "nan_columns = [col for col in car_prices.columns  if car_prices[col].hasnans]\n",
    "\n",
    "nan_columns # No columns have nan values?"
   ]
  },
  {
   "cell_type": "code",
   "execution_count": 264,
   "metadata": {},
   "outputs": [],
   "source": [
    "num_unique = {}\n",
    "\n",
    "\n",
    "for each_col in categorical_columns:\n",
    "    num_unique[each_col] = car_prices[each_col].nunique()\n"
   ]
  },
  {
   "cell_type": "code",
   "execution_count": 265,
   "metadata": {},
   "outputs": [
    {
     "data": {
      "text/plain": [
       "make           object\n",
       "model          object\n",
       "year            int64\n",
       "mileage         int64\n",
       "price           int64\n",
       "color          object\n",
       "state          object\n",
       "date_year       int64\n",
       "date_month      int64\n",
       "date_day        int64\n",
       "date_hour       int64\n",
       "date_minute     int64\n",
       "date_second     int64\n",
       "dtype: object"
      ]
     },
     "execution_count": 265,
     "metadata": {},
     "output_type": "execute_result"
    }
   ],
   "source": [
    "## format the date column\n",
    "\n",
    "car_prices_clone = car_prices.copy()\n",
    "\n",
    "def dateitize_column(dataframe, column_name):\n",
    "    dataframe[column_name] = dataframe[column_name].astype(\"datetime64\")\n",
    "    dataframe['{}_year'.format(column_name)] =  dataframe[column_name].map(lambda x: x.year)\n",
    "    dataframe['{}_month'.format(column_name)] = dataframe[column_name].map(lambda x: x.month)\n",
    "    dataframe['{}_day'.format(column_name)] = dataframe[column_name].map(lambda x: x.day)\n",
    "    dataframe['{}_hour'.format(column_name)] = dataframe[column_name].map(lambda x: x.hour)\n",
    "    dataframe['{}_minute'.format(column_name)] = dataframe[column_name].map(lambda x: x.minute)\n",
    "    dataframe['{}_second'.format(column_name)] = dataframe[column_name].map(lambda x: x.second)\n",
    "    dataframe.drop(columns=[column_name], inplace=True)\n",
    "\n",
    "\n",
    "dateitize_column(car_prices_clone, 'date')\n",
    "\n",
    "car_prices_clone.dtypes"
   ]
  },
  {
   "cell_type": "code",
   "execution_count": 266,
   "metadata": {},
   "outputs": [],
   "source": [
    "car_prices_clone['mileage_price_ratio'] = car_prices_clone['mileage'] / car_prices_clone['price']"
   ]
  },
  {
   "cell_type": "code",
   "execution_count": 267,
   "metadata": {},
   "outputs": [
    {
     "data": {
      "text/plain": [
       "make                    object\n",
       "model                   object\n",
       "year                     int64\n",
       "mileage                  int64\n",
       "price                    int64\n",
       "color                   object\n",
       "state                   object\n",
       "date_year                int64\n",
       "date_month               int64\n",
       "date_day                 int64\n",
       "date_hour                int64\n",
       "date_minute              int64\n",
       "date_second              int64\n",
       "mileage_price_ratio    float64\n",
       "dtype: object"
      ]
     },
     "execution_count": 267,
     "metadata": {},
     "output_type": "execute_result"
    }
   ],
   "source": [
    "car_prices_clone.dtypes"
   ]
  },
  {
   "cell_type": "markdown",
   "metadata": {},
   "source": [
    "## since the # of unique values is reasonably low, aka low cardinality among the categorical columns, we can use one-hot-encoding"
   ]
  },
  {
   "cell_type": "code",
   "execution_count": 268,
   "metadata": {},
   "outputs": [],
   "source": [
    "from sklearn.preprocessing import OneHotEncoder\n",
    "from sklearn.preprocessing import OrdinalEncoder\n",
    "from sklearn.pipeline import Pipeline\n",
    "from sklearn.compose import ColumnTransformer\n",
    "from sklearn.ensemble import RandomForestRegressor\n",
    "from sklearn.model_selection import train_test_split"
   ]
  },
  {
   "cell_type": "code",
   "execution_count": 269,
   "metadata": {},
   "outputs": [
    {
     "data": {
      "text/plain": [
       "['make', 'model', 'color', 'state']"
      ]
     },
     "execution_count": 269,
     "metadata": {},
     "output_type": "execute_result"
    }
   ],
   "source": [
    "categorical_columns = [col for col in car_prices_clone.columns if car_prices_clone[col].dtype == 'object']\n",
    "\n",
    "categorical_columns"
   ]
  },
  {
   "cell_type": "code",
   "execution_count": 270,
   "metadata": {},
   "outputs": [],
   "source": [
    "categorical_transformer = ColumnTransformer(transformers=[('categorical', OrdinalEncoder(), categorical_columns)])\n",
    "categorical_transformer_v2 = ColumnTransformer(transformers=[('categorical', OneHotEncoder(), categorical_columns)])\n",
    "\n",
    "pipeline = Pipeline(steps=[('transform', categorical_transformer), ('model', RandomForestRegressor(n_estimators=155))])\n",
    "pipeline_v2 = Pipeline(steps=[('transform', categorical_transformer_v2), ('model', RandomForestRegressor(n_estimators=50))])\n",
    "pipeline_v3_oe = Pipeline(steps=[('transform', categorical_transformer), ('model', RandomForestRegressor(n_estimators=50))])\n",
    "pipeline_v3_ohe = Pipeline(steps=[('transform', categorical_transformer_v2), ('model', RandomForestRegressor(n_estimators=50))])\n",
    "\n",
    "fitting_clone = car_prices_clone.copy()\n",
    "fitting_wo_date = fitting_clone.copy()\n",
    "\n",
    "fitting_wo_date.drop(columns=[col for col in fitting_wo_date.columns if 'date' in col], inplace=True)\n",
    "\n",
    "y = fitting_clone.pop('price')\n",
    "y_wo = fitting_wo_date.pop('price')\n",
    "\n",
    "train_x, validation_x, train_y, validation_y = train_test_split(fitting_clone, y, random_state=1)\n",
    "train_x_wo, validation_x_wo, train_y_wo, validation_y_wo = train_test_split(fitting_wo_date, y_wo, random_state=1)"
   ]
  },
  {
   "cell_type": "code",
   "execution_count": 271,
   "metadata": {},
   "outputs": [
    {
     "data": {
      "text/plain": [
       "(73501166.73370142, 73374288.06837273, 73470313.06628482, 73709609.93011108)"
      ]
     },
     "execution_count": 271,
     "metadata": {},
     "output_type": "execute_result"
    }
   ],
   "source": [
    "from sklearn.metrics import mean_squared_error\n",
    "\n",
    "pipeline.fit(train_x, train_y)\n",
    "pipeline_v2.fit(train_x, train_y)\n",
    "pipeline_v3_oe.fit(train_x_wo, train_y_wo)\n",
    "pipeline_v3_ohe.fit(train_x_wo, train_y_wo)\n",
    "\n",
    "predictions_oe = pipeline.predict(validation_x)\n",
    "predictions_ohe = pipeline_v2.predict(validation_x)\n",
    "predictions_wo_oe = pipeline_v3_oe.predict(validation_x_wo)\n",
    "predictions_wo_ohe = pipeline_v3_ohe.predict(validation_x_wo)\n",
    "\n",
    "mean_squared_error(predictions_oe, validation_y), mean_squared_error(predictions_ohe, validation_y), mean_squared_error(predictions_wo_oe, validation_y_wo), mean_squared_error(predictions_wo_ohe, validation_y_wo)"
   ]
  }
 ],
 "metadata": {
  "kernelspec": {
   "display_name": "base",
   "language": "python",
   "name": "python3"
  },
  "language_info": {
   "codemirror_mode": {
    "name": "ipython",
    "version": 3
   },
   "file_extension": ".py",
   "mimetype": "text/x-python",
   "name": "python",
   "nbconvert_exporter": "python",
   "pygments_lexer": "ipython3",
   "version": "3.9.13"
  },
  "orig_nbformat": 4
 },
 "nbformat": 4,
 "nbformat_minor": 2
}
