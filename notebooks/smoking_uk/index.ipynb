{
 "cells": [
  {
   "cell_type": "code",
   "execution_count": 177,
   "metadata": {
    "collapsed": true,
    "ExecuteTime": {
     "end_time": "2023-05-14T05:33:01.360926800Z",
     "start_time": "2023-05-14T05:33:01.315427300Z"
    }
   },
   "outputs": [],
   "source": [
    "# dataset manipulation\n",
    "import pandas as pd\n",
    "# numerical operations\n",
    "import numpy as np"
   ]
  },
  {
   "cell_type": "markdown",
   "source": [
    "[Dataset](https://www.kaggle.com/datasets/utkarshx27/smoking-dataset-from-uk) (link to dataset)\n",
    "\n",
    "This dataset consists of smoking data gathered from the uk, and contains lots of demographic data along with the type of tobacco consumed, this is my first foray into categorical variables in quite some time, so this will be a good welcoming back. I am planning on selecting my target variable as the `smoke` column which contains a **1** if they are currently a smoker and a **0** if they are not. I will use all the features left after removing that column as my feature space. I may involve feature engineering in the analysis which will help me decide which features to keep and which ones to remove. This is my second health dataset in a row, and I am interested in the trends, as I have a smoker in my family."
   ],
   "metadata": {
    "collapsed": false
   }
  },
  {
   "cell_type": "code",
   "execution_count": 178,
   "outputs": [
    {
     "data": {
      "text/plain": "   gender  age marital_status highest_qualification nationality ethnicity  \\\n1    Male   38       Divorced      No Qualification     British     White   \n2  Female   42         Single      No Qualification     British     White   \n3    Male   40        Married                Degree     English     White   \n4  Female   40        Married                Degree     English     White   \n5  Female   39        Married          GCSE/O Level     British     White   \n\n       gross_income     region smoke  amt_weekends  amt_weekdays     type  \n1    2,600 to 5,200  The North    No           NaN           NaN      NaN  \n2       Under 2,600  The North   Yes          12.0          12.0  Packets  \n3  28,600 to 36,400  The North    No           NaN           NaN      NaN  \n4  10,400 to 15,600  The North    No           NaN           NaN      NaN  \n5    2,600 to 5,200  The North    No           NaN           NaN      NaN  ",
      "text/html": "<div>\n<style scoped>\n    .dataframe tbody tr th:only-of-type {\n        vertical-align: middle;\n    }\n\n    .dataframe tbody tr th {\n        vertical-align: top;\n    }\n\n    .dataframe thead th {\n        text-align: right;\n    }\n</style>\n<table border=\"1\" class=\"dataframe\">\n  <thead>\n    <tr style=\"text-align: right;\">\n      <th></th>\n      <th>gender</th>\n      <th>age</th>\n      <th>marital_status</th>\n      <th>highest_qualification</th>\n      <th>nationality</th>\n      <th>ethnicity</th>\n      <th>gross_income</th>\n      <th>region</th>\n      <th>smoke</th>\n      <th>amt_weekends</th>\n      <th>amt_weekdays</th>\n      <th>type</th>\n    </tr>\n  </thead>\n  <tbody>\n    <tr>\n      <th>1</th>\n      <td>Male</td>\n      <td>38</td>\n      <td>Divorced</td>\n      <td>No Qualification</td>\n      <td>British</td>\n      <td>White</td>\n      <td>2,600 to 5,200</td>\n      <td>The North</td>\n      <td>No</td>\n      <td>NaN</td>\n      <td>NaN</td>\n      <td>NaN</td>\n    </tr>\n    <tr>\n      <th>2</th>\n      <td>Female</td>\n      <td>42</td>\n      <td>Single</td>\n      <td>No Qualification</td>\n      <td>British</td>\n      <td>White</td>\n      <td>Under 2,600</td>\n      <td>The North</td>\n      <td>Yes</td>\n      <td>12.0</td>\n      <td>12.0</td>\n      <td>Packets</td>\n    </tr>\n    <tr>\n      <th>3</th>\n      <td>Male</td>\n      <td>40</td>\n      <td>Married</td>\n      <td>Degree</td>\n      <td>English</td>\n      <td>White</td>\n      <td>28,600 to 36,400</td>\n      <td>The North</td>\n      <td>No</td>\n      <td>NaN</td>\n      <td>NaN</td>\n      <td>NaN</td>\n    </tr>\n    <tr>\n      <th>4</th>\n      <td>Female</td>\n      <td>40</td>\n      <td>Married</td>\n      <td>Degree</td>\n      <td>English</td>\n      <td>White</td>\n      <td>10,400 to 15,600</td>\n      <td>The North</td>\n      <td>No</td>\n      <td>NaN</td>\n      <td>NaN</td>\n      <td>NaN</td>\n    </tr>\n    <tr>\n      <th>5</th>\n      <td>Female</td>\n      <td>39</td>\n      <td>Married</td>\n      <td>GCSE/O Level</td>\n      <td>British</td>\n      <td>White</td>\n      <td>2,600 to 5,200</td>\n      <td>The North</td>\n      <td>No</td>\n      <td>NaN</td>\n      <td>NaN</td>\n      <td>NaN</td>\n    </tr>\n  </tbody>\n</table>\n</div>"
     },
     "execution_count": 178,
     "metadata": {},
     "output_type": "execute_result"
    }
   ],
   "source": [
    "## loading in dataset\n",
    "smoking_df = pd.read_csv('smoking.csv', index_col=0)\n",
    "\n",
    "smoking_df.head()  # Looks like we have some missing values as well, interesting!"
   ],
   "metadata": {
    "collapsed": false,
    "ExecuteTime": {
     "end_time": "2023-05-14T05:33:01.402927100Z",
     "start_time": "2023-05-14T05:33:01.332427400Z"
    }
   }
  },
  {
   "cell_type": "code",
   "execution_count": 179,
   "outputs": [
    {
     "data": {
      "text/plain": "gender                    object\nage                        int64\nmarital_status            object\nhighest_qualification     object\nnationality               object\nethnicity                 object\ngross_income              object\nregion                    object\nsmoke                     object\namt_weekends             float64\namt_weekdays             float64\ntype                      object\ndtype: object"
     },
     "execution_count": 179,
     "metadata": {},
     "output_type": "execute_result"
    }
   ],
   "source": [
    "smoking_df.dtypes"
   ],
   "metadata": {
    "collapsed": false,
    "ExecuteTime": {
     "end_time": "2023-05-14T05:33:01.402927100Z",
     "start_time": "2023-05-14T05:33:01.360926800Z"
    }
   }
  },
  {
   "cell_type": "markdown",
   "source": [
    "Ase you can see, we have quite a lot of categorical variables to handle (most of the dataset), so first let's get to encoding them, but before we do that, let's analyze and see if any columns contain NaN values. That is our first worry."
   ],
   "metadata": {
    "collapsed": false
   }
  },
  {
   "cell_type": "code",
   "execution_count": 180,
   "outputs": [
    {
     "data": {
      "text/plain": "{'gender': False,\n 'age': False,\n 'marital_status': False,\n 'highest_qualification': False,\n 'nationality': False,\n 'ethnicity': False,\n 'gross_income': False,\n 'region': False,\n 'smoke': False,\n 'amt_weekends': True,\n 'amt_weekdays': True,\n 'type': True}"
     },
     "execution_count": 180,
     "metadata": {},
     "output_type": "execute_result"
    }
   ],
   "source": [
    "contains_nan = {}\n",
    "\n",
    "for each_column in smoking_df.columns:\n",
    "    contains_nan[each_column] = smoking_df[each_column].hasnans\n",
    "\n",
    "contains_nan"
   ],
   "metadata": {
    "collapsed": false,
    "ExecuteTime": {
     "end_time": "2023-05-14T05:33:01.402927100Z",
     "start_time": "2023-05-14T05:33:01.365426800Z"
    }
   }
  },
  {
   "cell_type": "markdown",
   "source": [
    "So, it looks like we have about 3 columns that contain NaN values, that is the first part of the dataset we want to fix, after that, we can begin tackling the categorical variables!"
   ],
   "metadata": {
    "collapsed": false
   }
  },
  {
   "cell_type": "code",
   "execution_count": 181,
   "outputs": [
    {
     "data": {
      "text/plain": "False"
     },
     "execution_count": 181,
     "metadata": {},
     "output_type": "execute_result"
    }
   ],
   "source": [
    "# We have one small issue though, one of the NaN columns contains categorical data, not numerical data, so we may have to use frequency to fill those values.\n",
    "\n",
    "from sklearn.impute import SimpleImputer\n",
    "\n",
    "type_imputer = SimpleImputer(strategy='most_frequent')\n",
    "\n",
    "type_imputer.fit(smoking_df[['type']])\n",
    "\n",
    "values = type_imputer.transform(smoking_df[['type']])\n",
    "\n",
    "type_imputed_smoking_df = smoking_df.copy()\n",
    "\n",
    "type_imputed_smoking_df['type'] = values\n",
    "\n",
    "type_imputed_smoking_df[\n",
    "    'type'].hasnans  # Yay! The missing values have been removed, now we can move onto the other 2 numerical columns"
   ],
   "metadata": {
    "collapsed": false,
    "ExecuteTime": {
     "end_time": "2023-05-14T05:33:01.403927400Z",
     "start_time": "2023-05-14T05:33:01.378927200Z"
    }
   }
  },
  {
   "cell_type": "code",
   "execution_count": 182,
   "outputs": [
    {
     "data": {
      "text/plain": "False"
     },
     "execution_count": 182,
     "metadata": {},
     "output_type": "execute_result"
    }
   ],
   "source": [
    "# Do the same thing for amt_weekdays, except use the `mean` strategy to impute the missing values\n",
    "\n",
    "amt_weekdays_imputer = SimpleImputer(strategy='mean')\n",
    "\n",
    "amt_weekdays_imputer.fit(smoking_df[['amt_weekdays']])\n",
    "\n",
    "values = amt_weekdays_imputer.transform(smoking_df[['amt_weekdays']])\n",
    "\n",
    "amt_weekdays_imputed_smoking_df = type_imputed_smoking_df.copy()\n",
    "\n",
    "amt_weekdays_imputed_smoking_df['amt_weekdays'] = values\n",
    "\n",
    "amt_weekdays_imputed_smoking_df['amt_weekdays'].hasnans"
   ],
   "metadata": {
    "collapsed": false,
    "ExecuteTime": {
     "end_time": "2023-05-14T05:33:01.409927Z",
     "start_time": "2023-05-14T05:33:01.393927200Z"
    }
   }
  },
  {
   "cell_type": "code",
   "execution_count": 183,
   "outputs": [
    {
     "data": {
      "text/plain": "False"
     },
     "execution_count": 183,
     "metadata": {},
     "output_type": "execute_result"
    }
   ],
   "source": [
    "# Do the same thing for the amt_weekends, except use the `mean` strategy to impute the missing values\n",
    "\n",
    "amt_weekends_imputer = SimpleImputer(strategy='mean')\n",
    "\n",
    "amt_weekends_imputer.fit(smoking_df[['amt_weekends']])\n",
    "\n",
    "values = amt_weekends_imputer.transform(smoking_df[['amt_weekends']])\n",
    "\n",
    "amt_weekends_imputed_smoking_df = amt_weekdays_imputed_smoking_df.copy()\n",
    "\n",
    "amt_weekends_imputed_smoking_df['amt_weekends'] = values\n",
    "\n",
    "amt_weekends_imputed_smoking_df['amt_weekends'].hasnans"
   ],
   "metadata": {
    "collapsed": false,
    "ExecuteTime": {
     "end_time": "2023-05-14T05:33:01.425427600Z",
     "start_time": "2023-05-14T05:33:01.409927Z"
    }
   }
  },
  {
   "cell_type": "code",
   "execution_count": 184,
   "outputs": [
    {
     "data": {
      "text/plain": "{'gender': False,\n 'age': False,\n 'marital_status': False,\n 'highest_qualification': False,\n 'nationality': False,\n 'ethnicity': False,\n 'gross_income': False,\n 'region': False,\n 'smoke': False,\n 'amt_weekends': False,\n 'amt_weekdays': False,\n 'type': False}"
     },
     "execution_count": 184,
     "metadata": {},
     "output_type": "execute_result"
    }
   ],
   "source": [
    "imputed_smoking_df = amt_weekends_imputed_smoking_df.copy()\n",
    "\n",
    "contains_nan = {}\n",
    "\n",
    "for each_column in imputed_smoking_df.columns:\n",
    "    contains_nan[each_column] = imputed_smoking_df[each_column].hasnans\n",
    "\n",
    "contains_nan\n",
    "\n",
    "# We've successfully removed all NaN values!"
   ],
   "metadata": {
    "collapsed": false,
    "ExecuteTime": {
     "end_time": "2023-05-14T05:33:01.471728Z",
     "start_time": "2023-05-14T05:33:01.425927400Z"
    }
   }
  },
  {
   "cell_type": "code",
   "execution_count": 185,
   "outputs": [
    {
     "data": {
      "text/plain": "(   gender  age marital_status highest_qualification nationality ethnicity  \\\n 1    Male   38       Divorced      No Qualification     British     White   \n 2  Female   42         Single      No Qualification     British     White   \n 3    Male   40        Married                Degree     English     White   \n 4  Female   40        Married                Degree     English     White   \n 5  Female   39        Married          GCSE/O Level     British     White   \n \n        gross_income     region smoke  amt_weekends  amt_weekdays     type  \n 1    2,600 to 5,200  The North    No     16.410926     13.750594  Packets  \n 2       Under 2,600  The North   Yes     12.000000     12.000000  Packets  \n 3  28,600 to 36,400  The North    No     16.410926     13.750594  Packets  \n 4  10,400 to 15,600  The North    No     16.410926     13.750594  Packets  \n 5    2,600 to 5,200  The North    No     16.410926     13.750594  Packets  ,\n gender                    object\n age                        int64\n marital_status            object\n highest_qualification     object\n nationality               object\n ethnicity                 object\n gross_income              object\n region                    object\n smoke                     object\n amt_weekends             float64\n amt_weekdays             float64\n type                      object\n dtype: object,\n                age  amt_weekends  amt_weekdays\n count  1691.000000   1691.000000   1691.000000\n mean     49.836192     16.410926     13.750594\n std      18.736851      4.931838      4.680237\n min      16.000000      0.000000      0.000000\n 25%      34.000000     16.410926     13.750594\n 50%      48.000000     16.410926     13.750594\n 75%      65.500000     16.410926     13.750594\n max      97.000000     60.000000     55.000000)"
     },
     "execution_count": 185,
     "metadata": {},
     "output_type": "execute_result"
    }
   ],
   "source": [
    "# Now, lets checkout if we have any odd standard deviations across our dataset\n",
    "\n",
    "\n",
    "imputed_smoking_df.head(), imputed_smoking_df.dtypes, imputed_smoking_df.describe()  # Doesn't look too bad at all, no insanely high standard deviations"
   ],
   "metadata": {
    "collapsed": false,
    "ExecuteTime": {
     "end_time": "2023-05-14T05:33:01.493227900Z",
     "start_time": "2023-05-14T05:33:01.440228Z"
    }
   }
  },
  {
   "cell_type": "markdown",
   "source": [
    "Let's look at how we can process the `gross_income` column, we can find a way to convert that to numerical, data, let's see what values that column contains, and come up with a method to parse it."
   ],
   "metadata": {
    "collapsed": false
   }
  },
  {
   "cell_type": "code",
   "execution_count": 186,
   "outputs": [
    {
     "data": {
      "text/plain": "array(['2,600 to 5,200', 'Under 2,600', '28,600 to 36,400',\n       '10,400 to 15,600', '15,600 to 20,800', 'Above 36,400',\n       '5,200 to 10,400', 'Refused', '20,800 to 28,600', 'Unknown'],\n      dtype=object)"
     },
     "execution_count": 186,
     "metadata": {},
     "output_type": "execute_result"
    }
   ],
   "source": [
    "imputed_smoking_df['gross_income'].unique()"
   ],
   "metadata": {
    "collapsed": false,
    "ExecuteTime": {
     "end_time": "2023-05-14T05:33:01.508727800Z",
     "start_time": "2023-05-14T05:33:01.457228Z"
    }
   }
  },
  {
   "cell_type": "code",
   "execution_count": 187,
   "outputs": [
    {
     "data": {
      "text/plain": "count    1691.000000\nmean        9.205058\nstd         0.908441\nmin         7.170120\n25%         8.961879\n50%         9.472705\n75%         9.809177\nmax        10.907789\nName: gross_income, dtype: float64"
     },
     "execution_count": 187,
     "metadata": {},
     "output_type": "execute_result"
    }
   ],
   "source": [
    "gross_income_df = imputed_smoking_df.copy()\n",
    "\n",
    "\n",
    "def process_gross_income(income_amount: str) -> float:\n",
    "    income_amount = income_amount.replace(',', '')\n",
    "    if 'to' in income_amount:\n",
    "        [start, end] = income_amount.split(' to ')\n",
    "        return (int(end) + int(start)) / 2\n",
    "    elif 'Above' in income_amount:\n",
    "        above_amount = int(income_amount.split('Above ')[1])\n",
    "        return above_amount + (above_amount / 2)\n",
    "    elif 'Under' in income_amount:\n",
    "        under_amount = int(income_amount.split('Under ')[1])\n",
    "        return under_amount / 2\n",
    "    else:\n",
    "        return 0.0\n",
    "\n",
    "\n",
    "def further_process(income_amount: float, mean: float) -> float:\n",
    "    if income_amount == 0:\n",
    "        return mean\n",
    "    return income_amount\n",
    "\n",
    "\n",
    "gross_income_df['gross_income'] = gross_income_df['gross_income'].map(lambda x: process_gross_income(x))\n",
    "\n",
    "gross_income_df['gross_income'] = gross_income_df['gross_income'].map(\n",
    "    lambda x: further_process(x, float(np.mean(gross_income_df['gross_income']))))\n",
    "\n",
    "gross_income_df['gross_income'] = np.log(gross_income_df['gross_income'])\n",
    "\n",
    "imputed_smoking_df['gross_income'] = gross_income_df['gross_income']\n",
    "\n",
    "gross_income_df['gross_income'].describe()"
   ],
   "metadata": {
    "collapsed": false,
    "ExecuteTime": {
     "end_time": "2023-05-14T05:33:01.563728100Z",
     "start_time": "2023-05-14T05:33:01.484727900Z"
    }
   }
  },
  {
   "cell_type": "markdown",
   "source": [
    "We've now processed the gross income column, and successfully converted it to numerical data instead of categorical data. Now we must decide which column we want to preprocess next, let's observe the columns available to us right now."
   ],
   "metadata": {
    "collapsed": false
   }
  },
  {
   "cell_type": "code",
   "execution_count": 188,
   "outputs": [
    {
     "data": {
      "text/plain": "gender                    object\nage                        int64\nmarital_status            object\nhighest_qualification     object\nnationality               object\nethnicity                 object\ngross_income             float64\nregion                    object\nsmoke                     object\namt_weekends             float64\namt_weekdays             float64\ntype                      object\ndtype: object"
     },
     "execution_count": 188,
     "metadata": {},
     "output_type": "execute_result"
    }
   ],
   "source": [
    "gross_income_df.dtypes"
   ],
   "metadata": {
    "collapsed": false,
    "ExecuteTime": {
     "end_time": "2023-05-14T05:33:01.583735500Z",
     "start_time": "2023-05-14T05:33:01.564727900Z"
    }
   }
  },
  {
   "cell_type": "markdown",
   "source": [
    "We can try to tackle the region column now, that is strictly categorical data, there is no way we can interpret it as numerical (in the case of gross income, we can interpret above 59000 as some number, but for example with region we can interpret region x as 0, y as 1, z as 2, and so on."
   ],
   "metadata": {
    "collapsed": false
   }
  },
  {
   "cell_type": "code",
   "execution_count": 191,
   "outputs": [
    {
     "data": {
      "text/plain": "      gender  age marital_status highest_qualification nationality ethnicity  \\\n1       Male   38       Divorced      No Qualification     British     White   \n2     Female   42         Single      No Qualification     British     White   \n3       Male   40        Married                Degree     English     White   \n4     Female   40        Married                Degree     English     White   \n5     Female   39        Married          GCSE/O Level     British     White   \n...      ...  ...            ...                   ...         ...       ...   \n1687    Male   22         Single      No Qualification    Scottish     White   \n1688  Female   49       Divorced      Other/Sub Degree     English     White   \n1689    Male   45        Married      Other/Sub Degree    Scottish     White   \n1690  Female   51        Married      No Qualification     English     White   \n1691    Male   31        Married                Degree    Scottish     White   \n\n      gross_income smoke  amt_weekends  amt_weekdays         type  \\\n1         8.268732    No     16.410926     13.750594      Packets   \n2         7.170120   Yes     12.000000     12.000000      Packets   \n3        10.388995    No     16.410926     13.750594      Packets   \n4         9.472705    No     16.410926     13.750594      Packets   \n5         8.268732    No     16.410926     13.750594      Packets   \n...            ...   ...           ...           ...          ...   \n1687      8.268732    No     16.410926     13.750594      Packets   \n1688      8.268732   Yes     20.000000     20.000000  Hand-Rolled   \n1689      8.961879    No     16.410926     13.750594      Packets   \n1690      8.268732   Yes     20.000000     20.000000      Packets   \n1691      9.472705    No     16.410926     13.750594      Packets   \n\n      region_Midlands & East Anglia  region_Scotland  region_South East  \\\n1                                 0                0                  0   \n2                                 0                0                  0   \n3                                 0                0                  0   \n4                                 0                0                  0   \n5                                 0                0                  0   \n...                             ...              ...                ...   \n1687                              0                1                  0   \n1688                              0                1                  0   \n1689                              0                1                  0   \n1690                              0                1                  0   \n1691                              0                1                  0   \n\n      region_South West  region_The North  region_Wales  \n1                     0                 1             0  \n2                     0                 1             0  \n3                     0                 1             0  \n4                     0                 1             0  \n5                     0                 1             0  \n...                 ...               ...           ...  \n1687                  0                 0             0  \n1688                  0                 0             0  \n1689                  0                 0             0  \n1690                  0                 0             0  \n1691                  0                 0             0  \n\n[1691 rows x 17 columns]",
      "text/html": "<div>\n<style scoped>\n    .dataframe tbody tr th:only-of-type {\n        vertical-align: middle;\n    }\n\n    .dataframe tbody tr th {\n        vertical-align: top;\n    }\n\n    .dataframe thead th {\n        text-align: right;\n    }\n</style>\n<table border=\"1\" class=\"dataframe\">\n  <thead>\n    <tr style=\"text-align: right;\">\n      <th></th>\n      <th>gender</th>\n      <th>age</th>\n      <th>marital_status</th>\n      <th>highest_qualification</th>\n      <th>nationality</th>\n      <th>ethnicity</th>\n      <th>gross_income</th>\n      <th>smoke</th>\n      <th>amt_weekends</th>\n      <th>amt_weekdays</th>\n      <th>type</th>\n      <th>region_Midlands &amp; East Anglia</th>\n      <th>region_Scotland</th>\n      <th>region_South East</th>\n      <th>region_South West</th>\n      <th>region_The North</th>\n      <th>region_Wales</th>\n    </tr>\n  </thead>\n  <tbody>\n    <tr>\n      <th>1</th>\n      <td>Male</td>\n      <td>38</td>\n      <td>Divorced</td>\n      <td>No Qualification</td>\n      <td>British</td>\n      <td>White</td>\n      <td>8.268732</td>\n      <td>No</td>\n      <td>16.410926</td>\n      <td>13.750594</td>\n      <td>Packets</td>\n      <td>0</td>\n      <td>0</td>\n      <td>0</td>\n      <td>0</td>\n      <td>1</td>\n      <td>0</td>\n    </tr>\n    <tr>\n      <th>2</th>\n      <td>Female</td>\n      <td>42</td>\n      <td>Single</td>\n      <td>No Qualification</td>\n      <td>British</td>\n      <td>White</td>\n      <td>7.170120</td>\n      <td>Yes</td>\n      <td>12.000000</td>\n      <td>12.000000</td>\n      <td>Packets</td>\n      <td>0</td>\n      <td>0</td>\n      <td>0</td>\n      <td>0</td>\n      <td>1</td>\n      <td>0</td>\n    </tr>\n    <tr>\n      <th>3</th>\n      <td>Male</td>\n      <td>40</td>\n      <td>Married</td>\n      <td>Degree</td>\n      <td>English</td>\n      <td>White</td>\n      <td>10.388995</td>\n      <td>No</td>\n      <td>16.410926</td>\n      <td>13.750594</td>\n      <td>Packets</td>\n      <td>0</td>\n      <td>0</td>\n      <td>0</td>\n      <td>0</td>\n      <td>1</td>\n      <td>0</td>\n    </tr>\n    <tr>\n      <th>4</th>\n      <td>Female</td>\n      <td>40</td>\n      <td>Married</td>\n      <td>Degree</td>\n      <td>English</td>\n      <td>White</td>\n      <td>9.472705</td>\n      <td>No</td>\n      <td>16.410926</td>\n      <td>13.750594</td>\n      <td>Packets</td>\n      <td>0</td>\n      <td>0</td>\n      <td>0</td>\n      <td>0</td>\n      <td>1</td>\n      <td>0</td>\n    </tr>\n    <tr>\n      <th>5</th>\n      <td>Female</td>\n      <td>39</td>\n      <td>Married</td>\n      <td>GCSE/O Level</td>\n      <td>British</td>\n      <td>White</td>\n      <td>8.268732</td>\n      <td>No</td>\n      <td>16.410926</td>\n      <td>13.750594</td>\n      <td>Packets</td>\n      <td>0</td>\n      <td>0</td>\n      <td>0</td>\n      <td>0</td>\n      <td>1</td>\n      <td>0</td>\n    </tr>\n    <tr>\n      <th>...</th>\n      <td>...</td>\n      <td>...</td>\n      <td>...</td>\n      <td>...</td>\n      <td>...</td>\n      <td>...</td>\n      <td>...</td>\n      <td>...</td>\n      <td>...</td>\n      <td>...</td>\n      <td>...</td>\n      <td>...</td>\n      <td>...</td>\n      <td>...</td>\n      <td>...</td>\n      <td>...</td>\n      <td>...</td>\n    </tr>\n    <tr>\n      <th>1687</th>\n      <td>Male</td>\n      <td>22</td>\n      <td>Single</td>\n      <td>No Qualification</td>\n      <td>Scottish</td>\n      <td>White</td>\n      <td>8.268732</td>\n      <td>No</td>\n      <td>16.410926</td>\n      <td>13.750594</td>\n      <td>Packets</td>\n      <td>0</td>\n      <td>1</td>\n      <td>0</td>\n      <td>0</td>\n      <td>0</td>\n      <td>0</td>\n    </tr>\n    <tr>\n      <th>1688</th>\n      <td>Female</td>\n      <td>49</td>\n      <td>Divorced</td>\n      <td>Other/Sub Degree</td>\n      <td>English</td>\n      <td>White</td>\n      <td>8.268732</td>\n      <td>Yes</td>\n      <td>20.000000</td>\n      <td>20.000000</td>\n      <td>Hand-Rolled</td>\n      <td>0</td>\n      <td>1</td>\n      <td>0</td>\n      <td>0</td>\n      <td>0</td>\n      <td>0</td>\n    </tr>\n    <tr>\n      <th>1689</th>\n      <td>Male</td>\n      <td>45</td>\n      <td>Married</td>\n      <td>Other/Sub Degree</td>\n      <td>Scottish</td>\n      <td>White</td>\n      <td>8.961879</td>\n      <td>No</td>\n      <td>16.410926</td>\n      <td>13.750594</td>\n      <td>Packets</td>\n      <td>0</td>\n      <td>1</td>\n      <td>0</td>\n      <td>0</td>\n      <td>0</td>\n      <td>0</td>\n    </tr>\n    <tr>\n      <th>1690</th>\n      <td>Female</td>\n      <td>51</td>\n      <td>Married</td>\n      <td>No Qualification</td>\n      <td>English</td>\n      <td>White</td>\n      <td>8.268732</td>\n      <td>Yes</td>\n      <td>20.000000</td>\n      <td>20.000000</td>\n      <td>Packets</td>\n      <td>0</td>\n      <td>1</td>\n      <td>0</td>\n      <td>0</td>\n      <td>0</td>\n      <td>0</td>\n    </tr>\n    <tr>\n      <th>1691</th>\n      <td>Male</td>\n      <td>31</td>\n      <td>Married</td>\n      <td>Degree</td>\n      <td>Scottish</td>\n      <td>White</td>\n      <td>9.472705</td>\n      <td>No</td>\n      <td>16.410926</td>\n      <td>13.750594</td>\n      <td>Packets</td>\n      <td>0</td>\n      <td>1</td>\n      <td>0</td>\n      <td>0</td>\n      <td>0</td>\n      <td>0</td>\n    </tr>\n  </tbody>\n</table>\n<p>1691 rows × 17 columns</p>\n</div>"
     },
     "execution_count": 191,
     "metadata": {},
     "output_type": "execute_result"
    }
   ],
   "source": [
    "from sklearn.preprocessing import OneHotEncoder\n",
    "\n",
    "# One hot encoding the categorical values of the region column, and creating a new dataframe from it\n",
    "dummies = pd.get_dummies(imputed_smoking_df, columns=['region'], drop_first=True)\n",
    "\n",
    "region_imputed_smoking_df = dummies.copy()\n",
    "\n",
    "region_imputed_smoking_df"
   ],
   "metadata": {
    "collapsed": false,
    "ExecuteTime": {
     "end_time": "2023-05-14T05:33:20.186723200Z",
     "start_time": "2023-05-14T05:33:20.165724Z"
    }
   }
  }
 ],
 "metadata": {
  "kernelspec": {
   "display_name": "Python 3",
   "language": "python",
   "name": "python3"
  },
  "language_info": {
   "codemirror_mode": {
    "name": "ipython",
    "version": 2
   },
   "file_extension": ".py",
   "mimetype": "text/x-python",
   "name": "python",
   "nbconvert_exporter": "python",
   "pygments_lexer": "ipython2",
   "version": "2.7.6"
  }
 },
 "nbformat": 4,
 "nbformat_minor": 0
}
