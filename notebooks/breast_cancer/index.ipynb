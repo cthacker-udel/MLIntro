{
 "cells": [
  {
   "cell_type": "code",
   "execution_count": 83,
   "metadata": {
    "ExecuteTime": {
     "end_time": "2023-05-12T06:24:00.795992700Z",
     "start_time": "2023-05-12T06:24:00.710992700Z"
    }
   },
   "outputs": [],
   "source": [
    "# used for dataframe access/manipulation\n",
    "import pandas as pd\n",
    "from pandas import DataFrame\n",
    "# used for mathematical operations\n",
    "import numpy as np\n",
    "# used for graphing\n",
    "import seaborn as sns"
   ]
  },
  {
   "attachments": {},
   "cell_type": "markdown",
   "metadata": {},
   "source": [
    "# [Dataset](https://www.kaggle.com/datasets/utkarshx27/breast-cancer-dataset-used-royston-and-altman)\n",
    "\n",
    "This is a dataset comprising of breast cancer patient data, I will be using this dataset to try to predict what level of breast cancer the patient has based on their symptoms. This will be a bit more challenging of a model to create due to the previous challenge, which was relatively straightforward (just had to plug in the target + features into LogisticRegression and the rest was history). I will most likely have to tweak some of the columns, categorize the values a bit to get a good result, but this will serve to be an excellent beginner challenge as well as I get back in the machine learning hot-seat."
   ]
  },
  {
   "cell_type": "code",
   "execution_count": 84,
   "metadata": {
    "ExecuteTime": {
     "end_time": "2023-05-12T06:24:00.825492400Z",
     "start_time": "2023-05-12T06:24:00.716992700Z"
    }
   },
   "outputs": [
    {
     "data": {
      "text/plain": "(686, 12)"
     },
     "execution_count": 84,
     "metadata": {},
     "output_type": "execute_result"
    }
   ],
   "source": [
    "# loading in the csv file\n",
    "breast_cancer_dataframe: DataFrame = pd.read_csv('./gbsg.csv')\n",
    "\n",
    "# displaying the # of rows and columns\n",
    "breast_cancer_dataframe.shape"
   ]
  },
  {
   "attachments": {},
   "cell_type": "markdown",
   "metadata": {},
   "source": [
    "We only have 686 rows of data, so not bad at all for a dataset size that is not too large. We also have 11 features, one being the target, let's see what kind of columns we have."
   ]
  },
  {
   "cell_type": "code",
   "execution_count": 85,
   "metadata": {
    "ExecuteTime": {
     "end_time": "2023-05-12T06:24:00.826492400Z",
     "start_time": "2023-05-12T06:24:00.733491900Z"
    }
   },
   "outputs": [
    {
     "data": {
      "text/plain": "Index(['pid', 'age', 'meno', 'size', 'grade', 'nodes', 'pgr', 'er', 'hormon',\n       'rfstime', 'status'],\n      dtype='object')"
     },
     "execution_count": 85,
     "metadata": {},
     "output_type": "execute_result"
    }
   ],
   "source": [
    "# dropping the column that is not necessary\n",
    "bc_df = breast_cancer_dataframe.drop(columns=['Unnamed: 0'])\n",
    "\n",
    "bc_df.columns"
   ]
  },
  {
   "attachments": {},
   "cell_type": "markdown",
   "metadata": {},
   "source": [
    "Now we have a total of 9 features, because one of the columns was garbage data that was unnecessary in making a prediction."
   ]
  },
  {
   "attachments": {},
   "cell_type": "markdown",
   "metadata": {},
   "source": [
    "According to the specifications outlined in the dataset linked, our target column will most cause our model to be a form of logistic regression, that column would be the status column, which contains a value of either 0 or 1, 0 meaning surviving or 1 meaning the patient has passed away. That fits directly into the criteria of logistic regression, where we are not trying to predict a continuous value, but a discrete one, either 0 or 1."
   ]
  },
  {
   "attachments": {},
   "cell_type": "markdown",
   "metadata": {},
   "source": [
    "### Creating the Logistic Regression Model"
   ]
  },
  {
   "cell_type": "code",
   "execution_count": 86,
   "metadata": {
    "ExecuteTime": {
     "end_time": "2023-05-12T06:24:03.350491400Z",
     "start_time": "2023-05-12T06:24:00.747492700Z"
    }
   },
   "outputs": [
    {
     "data": {
      "text/plain": "0.773546511627907"
     },
     "execution_count": 86,
     "metadata": {},
     "output_type": "execute_result"
    },
    {
     "data": {
      "text/plain": "<Figure size 640x480 with 1 Axes>",
      "image/png": "[encoded data removed]"
     },
     "metadata": {},
     "output_type": "display_data"
    }
   ],
   "source": [
    "from sklearn.linear_model import LogisticRegressionCV\n",
    "from sklearn.model_selection import train_test_split\n",
    "\n",
    "# construct the features from the existing dataframe\n",
    "features = bc_df.drop(columns=['status'])\n",
    "\n",
    "test_number = []\n",
    "scores = []\n",
    "\n",
    "for i in range(20):\n",
    "    train_x, test_x, train_y, test_y = train_test_split(features, bc_df['status'])\n",
    "\n",
    "    # create the model we are using to\n",
    "    model = LogisticRegressionCV(solver='liblinear')\n",
    "\n",
    "    # fit with the split data\n",
    "    model.fit(train_x, train_y)\n",
    "\n",
    "    # calculate the score\n",
    "    score = model.score(test_x, test_y)\n",
    "    test_number.append(i)\n",
    "    scores.append(score)\n",
    "\n",
    "ax = sns.scatterplot(x=test_number, y=scores)\n",
    "ax.set_xlabel(\"Test Number\")\n",
    "ax.set_ylabel(\"Score\")\n",
    "ax.set_title(\"Score for each test executed\")\n",
    "np.average(scores)\n"
   ]
  },
  {
   "attachments": {},
   "cell_type": "markdown",
   "metadata": {},
   "source": [
    "Our average score is about .775, which isn't the brightest, we want to reach maybe mid 80s, low 90s, let's see if we can consolidate some of the columns in the dataframe"
   ]
  },
  {
   "cell_type": "code",
   "execution_count": 87,
   "metadata": {
    "ExecuteTime": {
     "end_time": "2023-05-12T06:24:03.403987900Z",
     "start_time": "2023-05-12T06:24:03.352491500Z"
    }
   },
   "outputs": [
    {
     "data": {
      "text/plain": "               pid         age        meno        size       grade  \\\ncount   686.000000  686.000000  686.000000  686.000000  686.000000   \nmean    966.061224   53.052478    0.577259   29.329446    2.116618   \nstd     495.506249   10.120739    0.494355   14.296217    0.582808   \nmin       1.000000   21.000000    0.000000    3.000000    1.000000   \n25%     580.750000   46.000000    0.000000   20.000000    2.000000   \n50%    1015.500000   53.000000    1.000000   25.000000    2.000000   \n75%    1340.500000   61.000000    1.000000   35.000000    2.000000   \nmax    1819.000000   80.000000    1.000000  120.000000    3.000000   \n\n            nodes          pgr           er      hormon      rfstime  \\\ncount  686.000000   686.000000   686.000000  686.000000   686.000000   \nmean     5.010204   109.995627    96.252187    0.358601  1124.489796   \nstd      5.475483   202.331552   153.083963    0.479940   642.791948   \nmin      1.000000     0.000000     0.000000    0.000000     8.000000   \n25%      1.000000     7.000000     8.000000    0.000000   567.750000   \n50%      3.000000    32.500000    36.000000    0.000000  1084.000000   \n75%      7.000000   131.750000   114.000000    1.000000  1684.750000   \nmax     51.000000  2380.000000  1144.000000    1.000000  2659.000000   \n\n           status  \ncount  686.000000  \nmean     0.435860  \nstd      0.496231  \nmin      0.000000  \n25%      0.000000  \n50%      0.000000  \n75%      1.000000  \nmax      1.000000  ",
      "text/html": "<div>\n<style scoped>\n    .dataframe tbody tr th:only-of-type {\n        vertical-align: middle;\n    }\n\n    .dataframe tbody tr th {\n        vertical-align: top;\n    }\n\n    .dataframe thead th {\n        text-align: right;\n    }\n</style>\n<table border=\"1\" class=\"dataframe\">\n  <thead>\n    <tr style=\"text-align: right;\">\n      <th></th>\n      <th>pid</th>\n      <th>age</th>\n      <th>meno</th>\n      <th>size</th>\n      <th>grade</th>\n      <th>nodes</th>\n      <th>pgr</th>\n      <th>er</th>\n      <th>hormon</th>\n      <th>rfstime</th>\n      <th>status</th>\n    </tr>\n  </thead>\n  <tbody>\n    <tr>\n      <th>count</th>\n      <td>686.000000</td>\n      <td>686.000000</td>\n      <td>686.000000</td>\n      <td>686.000000</td>\n      <td>686.000000</td>\n      <td>686.000000</td>\n      <td>686.000000</td>\n      <td>686.000000</td>\n      <td>686.000000</td>\n      <td>686.000000</td>\n      <td>686.000000</td>\n    </tr>\n    <tr>\n      <th>mean</th>\n      <td>966.061224</td>\n      <td>53.052478</td>\n      <td>0.577259</td>\n      <td>29.329446</td>\n      <td>2.116618</td>\n      <td>5.010204</td>\n      <td>109.995627</td>\n      <td>96.252187</td>\n      <td>0.358601</td>\n      <td>1124.489796</td>\n      <td>0.435860</td>\n    </tr>\n    <tr>\n      <th>std</th>\n      <td>495.506249</td>\n      <td>10.120739</td>\n      <td>0.494355</td>\n      <td>14.296217</td>\n      <td>0.582808</td>\n      <td>5.475483</td>\n      <td>202.331552</td>\n      <td>153.083963</td>\n      <td>0.479940</td>\n      <td>642.791948</td>\n      <td>0.496231</td>\n    </tr>\n    <tr>\n      <th>min</th>\n      <td>1.000000</td>\n      <td>21.000000</td>\n      <td>0.000000</td>\n      <td>3.000000</td>\n      <td>1.000000</td>\n      <td>1.000000</td>\n      <td>0.000000</td>\n      <td>0.000000</td>\n      <td>0.000000</td>\n      <td>8.000000</td>\n      <td>0.000000</td>\n    </tr>\n    <tr>\n      <th>25%</th>\n      <td>580.750000</td>\n      <td>46.000000</td>\n      <td>0.000000</td>\n      <td>20.000000</td>\n      <td>2.000000</td>\n      <td>1.000000</td>\n      <td>7.000000</td>\n      <td>8.000000</td>\n      <td>0.000000</td>\n      <td>567.750000</td>\n      <td>0.000000</td>\n    </tr>\n    <tr>\n      <th>50%</th>\n      <td>1015.500000</td>\n      <td>53.000000</td>\n      <td>1.000000</td>\n      <td>25.000000</td>\n      <td>2.000000</td>\n      <td>3.000000</td>\n      <td>32.500000</td>\n      <td>36.000000</td>\n      <td>0.000000</td>\n      <td>1084.000000</td>\n      <td>0.000000</td>\n    </tr>\n    <tr>\n      <th>75%</th>\n      <td>1340.500000</td>\n      <td>61.000000</td>\n      <td>1.000000</td>\n      <td>35.000000</td>\n      <td>2.000000</td>\n      <td>7.000000</td>\n      <td>131.750000</td>\n      <td>114.000000</td>\n      <td>1.000000</td>\n      <td>1684.750000</td>\n      <td>1.000000</td>\n    </tr>\n    <tr>\n      <th>max</th>\n      <td>1819.000000</td>\n      <td>80.000000</td>\n      <td>1.000000</td>\n      <td>120.000000</td>\n      <td>3.000000</td>\n      <td>51.000000</td>\n      <td>2380.000000</td>\n      <td>1144.000000</td>\n      <td>1.000000</td>\n      <td>2659.000000</td>\n      <td>1.000000</td>\n    </tr>\n  </tbody>\n</table>\n</div>"
     },
     "execution_count": 87,
     "metadata": {},
     "output_type": "execute_result"
    }
   ],
   "source": [
    "bc_df.describe()"
   ]
  },
  {
   "attachments": {},
   "cell_type": "markdown",
   "metadata": {},
   "source": [
    "We may want to remove the patient id, as that has no help on whether the patient will survive/die from breast cancer"
   ]
  },
  {
   "cell_type": "code",
   "execution_count": 88,
   "metadata": {
    "ExecuteTime": {
     "end_time": "2023-05-12T06:24:03.404487900Z",
     "start_time": "2023-05-12T06:24:03.381987400Z"
    }
   },
   "outputs": [
    {
     "data": {
      "text/plain": "   age  meno  size  grade  nodes  pgr  er  hormon  rfstime\n0   49     0    18      2      2    0   0       0     1838\n1   55     1    20      3     16    0   0       0      403\n2   56     1    40      3      3    0   0       0     1603\n3   45     0    25      3      1    0   4       0      177\n4   65     1    30      2      5    0  36       1     1855",
      "text/html": "<div>\n<style scoped>\n    .dataframe tbody tr th:only-of-type {\n        vertical-align: middle;\n    }\n\n    .dataframe tbody tr th {\n        vertical-align: top;\n    }\n\n    .dataframe thead th {\n        text-align: right;\n    }\n</style>\n<table border=\"1\" class=\"dataframe\">\n  <thead>\n    <tr style=\"text-align: right;\">\n      <th></th>\n      <th>age</th>\n      <th>meno</th>\n      <th>size</th>\n      <th>grade</th>\n      <th>nodes</th>\n      <th>pgr</th>\n      <th>er</th>\n      <th>hormon</th>\n      <th>rfstime</th>\n    </tr>\n  </thead>\n  <tbody>\n    <tr>\n      <th>0</th>\n      <td>49</td>\n      <td>0</td>\n      <td>18</td>\n      <td>2</td>\n      <td>2</td>\n      <td>0</td>\n      <td>0</td>\n      <td>0</td>\n      <td>1838</td>\n    </tr>\n    <tr>\n      <th>1</th>\n      <td>55</td>\n      <td>1</td>\n      <td>20</td>\n      <td>3</td>\n      <td>16</td>\n      <td>0</td>\n      <td>0</td>\n      <td>0</td>\n      <td>403</td>\n    </tr>\n    <tr>\n      <th>2</th>\n      <td>56</td>\n      <td>1</td>\n      <td>40</td>\n      <td>3</td>\n      <td>3</td>\n      <td>0</td>\n      <td>0</td>\n      <td>0</td>\n      <td>1603</td>\n    </tr>\n    <tr>\n      <th>3</th>\n      <td>45</td>\n      <td>0</td>\n      <td>25</td>\n      <td>3</td>\n      <td>1</td>\n      <td>0</td>\n      <td>4</td>\n      <td>0</td>\n      <td>177</td>\n    </tr>\n    <tr>\n      <th>4</th>\n      <td>65</td>\n      <td>1</td>\n      <td>30</td>\n      <td>2</td>\n      <td>5</td>\n      <td>0</td>\n      <td>36</td>\n      <td>1</td>\n      <td>1855</td>\n    </tr>\n  </tbody>\n</table>\n</div>"
     },
     "execution_count": 88,
     "metadata": {},
     "output_type": "execute_result"
    }
   ],
   "source": [
    "removed_pid: DataFrame = features.drop(columns=['pid'])\n",
    "\n",
    "removed_pid.head()"
   ]
  },
  {
   "attachments": {},
   "cell_type": "markdown",
   "metadata": {},
   "source": [
    "Now that we've removed the patient id, we may have a stronger prediction, because that patient id was causing major issues with our statistics, and overall have a better prediction."
   ]
  },
  {
   "cell_type": "code",
   "execution_count": 89,
   "metadata": {
    "ExecuteTime": {
     "end_time": "2023-05-12T06:24:04.356496600Z",
     "start_time": "2023-05-12T06:24:03.399987900Z"
    }
   },
   "outputs": [
    {
     "data": {
      "text/plain": "0.7267441860465116"
     },
     "execution_count": 89,
     "metadata": {},
     "output_type": "execute_result"
    },
    {
     "data": {
      "text/plain": "<Figure size 640x480 with 1 Axes>",
      "image/png": "[encoded data removed]"
     },
     "metadata": {},
     "output_type": "display_data"
    }
   ],
   "source": [
    "# second model\n",
    "scores = []\n",
    "test_number = []\n",
    "for i in range(10):\n",
    "    # create model\n",
    "    second_model = LogisticRegressionCV(solver='liblinear')\n",
    "\n",
    "    # split removed data\n",
    "    r_train_x, r_test_x, r_train_y, r_test_y = train_test_split(removed_pid, bc_df['status'])\n",
    "\n",
    "    # fit with training data\n",
    "    second_model.fit(r_train_x, r_train_y)\n",
    "\n",
    "    # generate score\n",
    "    score = second_model.score(r_test_x, r_test_y)\n",
    "    scores.append(score)\n",
    "    test_number.append(i)\n",
    "\n",
    "ax = sns.scatterplot(x=test_number, y=scores)\n",
    "ax.set_xlabel(\"Test Number\")\n",
    "ax.set_ylabel(\"Score\")\n",
    "ax.set_title(\"Scores of models with pid removed\")\n",
    "np.average(scores)"
   ]
  },
  {
   "attachments": {},
   "cell_type": "markdown",
   "metadata": {},
   "source": [
    "Removing pid actually caused the new model to perform worse (odd enough), so that leads us to believe that we need to improve some columns within the dataframe, let's see which columns we could potentially change."
   ]
  },
  {
   "cell_type": "code",
   "execution_count": 90,
   "metadata": {
    "ExecuteTime": {
     "end_time": "2023-05-12T06:24:04.384996600Z",
     "start_time": "2023-05-12T06:24:04.344996900Z"
    }
   },
   "outputs": [
    {
     "data": {
      "text/plain": "              age        meno        size       grade       nodes  \\\ncount  686.000000  686.000000  686.000000  686.000000  686.000000   \nmean    53.052478    0.577259   29.329446    2.116618    5.010204   \nstd     10.120739    0.494355   14.296217    0.582808    5.475483   \nmin     21.000000    0.000000    3.000000    1.000000    1.000000   \n25%     46.000000    0.000000   20.000000    2.000000    1.000000   \n50%     53.000000    1.000000   25.000000    2.000000    3.000000   \n75%     61.000000    1.000000   35.000000    2.000000    7.000000   \nmax     80.000000    1.000000  120.000000    3.000000   51.000000   \n\n               pgr           er      hormon      rfstime  \ncount   686.000000   686.000000  686.000000   686.000000  \nmean    109.995627    96.252187    0.358601  1124.489796  \nstd     202.331552   153.083963    0.479940   642.791948  \nmin       0.000000     0.000000    0.000000     8.000000  \n25%       7.000000     8.000000    0.000000   567.750000  \n50%      32.500000    36.000000    0.000000  1084.000000  \n75%     131.750000   114.000000    1.000000  1684.750000  \nmax    2380.000000  1144.000000    1.000000  2659.000000  ",
      "text/html": "<div>\n<style scoped>\n    .dataframe tbody tr th:only-of-type {\n        vertical-align: middle;\n    }\n\n    .dataframe tbody tr th {\n        vertical-align: top;\n    }\n\n    .dataframe thead th {\n        text-align: right;\n    }\n</style>\n<table border=\"1\" class=\"dataframe\">\n  <thead>\n    <tr style=\"text-align: right;\">\n      <th></th>\n      <th>age</th>\n      <th>meno</th>\n      <th>size</th>\n      <th>grade</th>\n      <th>nodes</th>\n      <th>pgr</th>\n      <th>er</th>\n      <th>hormon</th>\n      <th>rfstime</th>\n    </tr>\n  </thead>\n  <tbody>\n    <tr>\n      <th>count</th>\n      <td>686.000000</td>\n      <td>686.000000</td>\n      <td>686.000000</td>\n      <td>686.000000</td>\n      <td>686.000000</td>\n      <td>686.000000</td>\n      <td>686.000000</td>\n      <td>686.000000</td>\n      <td>686.000000</td>\n    </tr>\n    <tr>\n      <th>mean</th>\n      <td>53.052478</td>\n      <td>0.577259</td>\n      <td>29.329446</td>\n      <td>2.116618</td>\n      <td>5.010204</td>\n      <td>109.995627</td>\n      <td>96.252187</td>\n      <td>0.358601</td>\n      <td>1124.489796</td>\n    </tr>\n    <tr>\n      <th>std</th>\n      <td>10.120739</td>\n      <td>0.494355</td>\n      <td>14.296217</td>\n      <td>0.582808</td>\n      <td>5.475483</td>\n      <td>202.331552</td>\n      <td>153.083963</td>\n      <td>0.479940</td>\n      <td>642.791948</td>\n    </tr>\n    <tr>\n      <th>min</th>\n      <td>21.000000</td>\n      <td>0.000000</td>\n      <td>3.000000</td>\n      <td>1.000000</td>\n      <td>1.000000</td>\n      <td>0.000000</td>\n      <td>0.000000</td>\n      <td>0.000000</td>\n      <td>8.000000</td>\n    </tr>\n    <tr>\n      <th>25%</th>\n      <td>46.000000</td>\n      <td>0.000000</td>\n      <td>20.000000</td>\n      <td>2.000000</td>\n      <td>1.000000</td>\n      <td>7.000000</td>\n      <td>8.000000</td>\n      <td>0.000000</td>\n      <td>567.750000</td>\n    </tr>\n    <tr>\n      <th>50%</th>\n      <td>53.000000</td>\n      <td>1.000000</td>\n      <td>25.000000</td>\n      <td>2.000000</td>\n      <td>3.000000</td>\n      <td>32.500000</td>\n      <td>36.000000</td>\n      <td>0.000000</td>\n      <td>1084.000000</td>\n    </tr>\n    <tr>\n      <th>75%</th>\n      <td>61.000000</td>\n      <td>1.000000</td>\n      <td>35.000000</td>\n      <td>2.000000</td>\n      <td>7.000000</td>\n      <td>131.750000</td>\n      <td>114.000000</td>\n      <td>1.000000</td>\n      <td>1684.750000</td>\n    </tr>\n    <tr>\n      <th>max</th>\n      <td>80.000000</td>\n      <td>1.000000</td>\n      <td>120.000000</td>\n      <td>3.000000</td>\n      <td>51.000000</td>\n      <td>2380.000000</td>\n      <td>1144.000000</td>\n      <td>1.000000</td>\n      <td>2659.000000</td>\n    </tr>\n  </tbody>\n</table>\n</div>"
     },
     "execution_count": 90,
     "metadata": {},
     "output_type": "execute_result"
    }
   ],
   "source": [
    "removed_pid.describe()"
   ]
  },
  {
   "attachments": {},
   "cell_type": "markdown",
   "metadata": {},
   "source": [
    "We could possibly discern rfstime to a more consolidated value, rather then all over the place, as the minimum is 8 but the maximum is 2659, so let's set some limits to test. Let's say that anything < 800 days is low, and anything < 1600 is medium, and anything after is high, to maybe consolidate the column a bit"
   ]
  },
  {
   "cell_type": "code",
   "execution_count": 91,
   "metadata": {
    "ExecuteTime": {
     "end_time": "2023-05-12T06:24:04.391496200Z",
     "start_time": "2023-05-12T06:24:04.374996300Z"
    }
   },
   "outputs": [
    {
     "data": {
      "text/plain": "   age  meno  size  grade  nodes  pgr  er  hormon  rfstime\n0   49     0    18      2      2    0   0       0      1.0\n1   55     1    20      3     16    0   0       0      1.0\n2   56     1    40      3      3    0   0       0      1.0\n3   45     0    25      3      1    0   4       0      1.0\n4   65     1    30      2      5    0  36       1      1.0",
      "text/html": "<div>\n<style scoped>\n    .dataframe tbody tr th:only-of-type {\n        vertical-align: middle;\n    }\n\n    .dataframe tbody tr th {\n        vertical-align: top;\n    }\n\n    .dataframe thead th {\n        text-align: right;\n    }\n</style>\n<table border=\"1\" class=\"dataframe\">\n  <thead>\n    <tr style=\"text-align: right;\">\n      <th></th>\n      <th>age</th>\n      <th>meno</th>\n      <th>size</th>\n      <th>grade</th>\n      <th>nodes</th>\n      <th>pgr</th>\n      <th>er</th>\n      <th>hormon</th>\n      <th>rfstime</th>\n    </tr>\n  </thead>\n  <tbody>\n    <tr>\n      <th>0</th>\n      <td>49</td>\n      <td>0</td>\n      <td>18</td>\n      <td>2</td>\n      <td>2</td>\n      <td>0</td>\n      <td>0</td>\n      <td>0</td>\n      <td>1.0</td>\n    </tr>\n    <tr>\n      <th>1</th>\n      <td>55</td>\n      <td>1</td>\n      <td>20</td>\n      <td>3</td>\n      <td>16</td>\n      <td>0</td>\n      <td>0</td>\n      <td>0</td>\n      <td>1.0</td>\n    </tr>\n    <tr>\n      <th>2</th>\n      <td>56</td>\n      <td>1</td>\n      <td>40</td>\n      <td>3</td>\n      <td>3</td>\n      <td>0</td>\n      <td>0</td>\n      <td>0</td>\n      <td>1.0</td>\n    </tr>\n    <tr>\n      <th>3</th>\n      <td>45</td>\n      <td>0</td>\n      <td>25</td>\n      <td>3</td>\n      <td>1</td>\n      <td>0</td>\n      <td>4</td>\n      <td>0</td>\n      <td>1.0</td>\n    </tr>\n    <tr>\n      <th>4</th>\n      <td>65</td>\n      <td>1</td>\n      <td>30</td>\n      <td>2</td>\n      <td>5</td>\n      <td>0</td>\n      <td>36</td>\n      <td>1</td>\n      <td>1.0</td>\n    </tr>\n  </tbody>\n</table>\n</div>"
     },
     "execution_count": 91,
     "metadata": {},
     "output_type": "execute_result"
    }
   ],
   "source": [
    "import math\n",
    "\n",
    "removed_pid['rfstime'] = removed_pid['rfstime'].map(lambda x: 1 / (1 + math.exp(-1 * x)))\n",
    "\n",
    "removed_pid.head()"
   ]
  },
  {
   "cell_type": "markdown",
   "source": [
    "Let's try using ridge regression to see if we can get an slightly improved score, let's use it with the sigmoid function applied to the rfstime variable"
   ],
   "metadata": {
    "collapsed": false
   }
  },
  {
   "cell_type": "code",
   "execution_count": 92,
   "metadata": {
    "ExecuteTime": {
     "end_time": "2023-05-12T06:24:04.404997100Z",
     "start_time": "2023-05-12T06:24:04.391496200Z"
    }
   },
   "outputs": [
    {
     "data": {
      "text/plain": "0.008186164181788969"
     },
     "execution_count": 92,
     "metadata": {},
     "output_type": "execute_result"
    }
   ],
   "source": [
    "from sklearn.linear_model import Ridge\n",
    "\n",
    "ridge_model = Ridge()\n",
    "\n",
    "r_train_x, r_test_x, r_train_y, r_test_y = train_test_split(removed_pid, bc_df['status'])\n",
    "\n",
    "ridge_model.fit(r_train_x, r_train_y)\n",
    "\n",
    "ridge_model.score(r_test_x, r_test_y)"
   ]
  },
  {
   "cell_type": "markdown",
   "source": [
    "As we can see from this score, linear regression models perform horribly with this dataset, we need to find a good model or a good combination of parameters to apply to a logistic model to get a satisfactory score out of this dataset."
   ],
   "metadata": {
    "collapsed": false
   }
  },
  {
   "cell_type": "code",
   "execution_count": 93,
   "outputs": [
    {
     "name": "stderr",
     "output_type": "stream",
     "text": [
      "C:\\Users\\flyin\\anaconda3\\lib\\site-packages\\sklearn\\linear_model\\_logistic.py:814: ConvergenceWarning: lbfgs failed to converge (status=1):\n",
      "STOP: TOTAL NO. of ITERATIONS REACHED LIMIT.\n",
      "\n",
      "Increase the number of iterations (max_iter) or scale the data as shown in:\n",
      "    https://scikit-learn.org/stable/modules/preprocessing.html\n",
      "Please also refer to the documentation for alternative solver options:\n",
      "    https://scikit-learn.org/stable/modules/linear_model.html#logistic-regression\n",
      "  n_iter_i = _check_optimize_result(\n",
      "C:\\Users\\flyin\\anaconda3\\lib\\site-packages\\sklearn\\linear_model\\_logistic.py:814: ConvergenceWarning: lbfgs failed to converge (status=1):\n",
      "STOP: TOTAL NO. of ITERATIONS REACHED LIMIT.\n",
      "\n",
      "Increase the number of iterations (max_iter) or scale the data as shown in:\n",
      "    https://scikit-learn.org/stable/modules/preprocessing.html\n",
      "Please also refer to the documentation for alternative solver options:\n",
      "    https://scikit-learn.org/stable/modules/linear_model.html#logistic-regression\n",
      "  n_iter_i = _check_optimize_result(\n",
      "C:\\Users\\flyin\\anaconda3\\lib\\site-packages\\sklearn\\linear_model\\_logistic.py:814: ConvergenceWarning: lbfgs failed to converge (status=1):\n",
      "STOP: TOTAL NO. of ITERATIONS REACHED LIMIT.\n",
      "\n",
      "Increase the number of iterations (max_iter) or scale the data as shown in:\n",
      "    https://scikit-learn.org/stable/modules/preprocessing.html\n",
      "Please also refer to the documentation for alternative solver options:\n",
      "    https://scikit-learn.org/stable/modules/linear_model.html#logistic-regression\n",
      "  n_iter_i = _check_optimize_result(\n",
      "C:\\Users\\flyin\\anaconda3\\lib\\site-packages\\sklearn\\linear_model\\_logistic.py:814: ConvergenceWarning: lbfgs failed to converge (status=1):\n",
      "STOP: TOTAL NO. of ITERATIONS REACHED LIMIT.\n",
      "\n",
      "Increase the number of iterations (max_iter) or scale the data as shown in:\n",
      "    https://scikit-learn.org/stable/modules/preprocessing.html\n",
      "Please also refer to the documentation for alternative solver options:\n",
      "    https://scikit-learn.org/stable/modules/linear_model.html#logistic-regression\n",
      "  n_iter_i = _check_optimize_result(\n",
      "C:\\Users\\flyin\\anaconda3\\lib\\site-packages\\sklearn\\linear_model\\_logistic.py:814: ConvergenceWarning: lbfgs failed to converge (status=1):\n",
      "STOP: TOTAL NO. of ITERATIONS REACHED LIMIT.\n",
      "\n",
      "Increase the number of iterations (max_iter) or scale the data as shown in:\n",
      "    https://scikit-learn.org/stable/modules/preprocessing.html\n",
      "Please also refer to the documentation for alternative solver options:\n",
      "    https://scikit-learn.org/stable/modules/linear_model.html#logistic-regression\n",
      "  n_iter_i = _check_optimize_result(\n"
     ]
    },
    {
     "data": {
      "text/plain": "0.6104651162790697"
     },
     "execution_count": 93,
     "metadata": {},
     "output_type": "execute_result"
    }
   ],
   "source": [
    "# Why not try hyper-parameter tuning?\n",
    "from sklearn.model_selection import GridSearchCV\n",
    "\n",
    "model = LogisticRegressionCV()\n",
    "\n",
    "train_x, test_x, train_y, test_y = train_test_split(removed_pid, bc_df['status'])\n",
    "\n",
    "model.fit(train_x, train_y)\n",
    "\n",
    "model.score(test_x, test_y)\n",
    "# parameters = {\n",
    "#     'penalty': ['l1', 'l2', 'elasticnet', None],\n",
    "#     'dual': [True, False],\n",
    "#     'class_weight': [None, 'balanced'],\n",
    "#     'solver': ['lbfgs', 'liblinear', 'newton-cg', 'sag', 'saga'],\n",
    "#     'max_iter': [100, 500, 1000]\n",
    "# }\n",
    "#\n",
    "# gsv = GridSearchCV(estimator=LogisticRegressionCV(), param_grid=parameters)\n",
    "\n",
    "# print(gsv.estimator.get_params().keys())\n",
    "# train_x, test_x, train_y, test_y = train_test_split(removed_pid, bc_df['status'])\n",
    "#\n",
    "# gsv.fit(train_x, train_y)\n",
    "# # gsv.score(test_x, test_y)\n",
    "#\n",
    "# print(gsv.cv_results_)"
   ],
   "metadata": {
    "collapsed": false,
    "ExecuteTime": {
     "end_time": "2023-05-12T06:24:04.853996700Z",
     "start_time": "2023-05-12T06:24:04.407996400Z"
    }
   }
  },
  {
   "cell_type": "markdown",
   "source": [
    "We keep getting this error trying to fit the logistic regressor with the training data, this means we have to normalize the data to achieve a higher performance, maybe my idea about normalizing the rfstime was correct, and that will improve the performance, let's try doing that."
   ],
   "metadata": {
    "collapsed": false
   }
  },
  {
   "cell_type": "code",
   "execution_count": 94,
   "outputs": [
    {
     "data": {
      "text/plain": "   age  meno  size  grade  nodes  pgr  er  hormon  rfstime\n0   49     0    18      2      2    0   0       0        0\n1   55     1    20      3     16    0   0       0        0\n2   56     1    40      3      3    0   0       0        0\n3   45     0    25      3      1    0   4       0        0\n4   65     1    30      2      5    0  36       1        0",
      "text/html": "<div>\n<style scoped>\n    .dataframe tbody tr th:only-of-type {\n        vertical-align: middle;\n    }\n\n    .dataframe tbody tr th {\n        vertical-align: top;\n    }\n\n    .dataframe thead th {\n        text-align: right;\n    }\n</style>\n<table border=\"1\" class=\"dataframe\">\n  <thead>\n    <tr style=\"text-align: right;\">\n      <th></th>\n      <th>age</th>\n      <th>meno</th>\n      <th>size</th>\n      <th>grade</th>\n      <th>nodes</th>\n      <th>pgr</th>\n      <th>er</th>\n      <th>hormon</th>\n      <th>rfstime</th>\n    </tr>\n  </thead>\n  <tbody>\n    <tr>\n      <th>0</th>\n      <td>49</td>\n      <td>0</td>\n      <td>18</td>\n      <td>2</td>\n      <td>2</td>\n      <td>0</td>\n      <td>0</td>\n      <td>0</td>\n      <td>0</td>\n    </tr>\n    <tr>\n      <th>1</th>\n      <td>55</td>\n      <td>1</td>\n      <td>20</td>\n      <td>3</td>\n      <td>16</td>\n      <td>0</td>\n      <td>0</td>\n      <td>0</td>\n      <td>0</td>\n    </tr>\n    <tr>\n      <th>2</th>\n      <td>56</td>\n      <td>1</td>\n      <td>40</td>\n      <td>3</td>\n      <td>3</td>\n      <td>0</td>\n      <td>0</td>\n      <td>0</td>\n      <td>0</td>\n    </tr>\n    <tr>\n      <th>3</th>\n      <td>45</td>\n      <td>0</td>\n      <td>25</td>\n      <td>3</td>\n      <td>1</td>\n      <td>0</td>\n      <td>4</td>\n      <td>0</td>\n      <td>0</td>\n    </tr>\n    <tr>\n      <th>4</th>\n      <td>65</td>\n      <td>1</td>\n      <td>30</td>\n      <td>2</td>\n      <td>5</td>\n      <td>0</td>\n      <td>36</td>\n      <td>1</td>\n      <td>0</td>\n    </tr>\n  </tbody>\n</table>\n</div>"
     },
     "execution_count": 94,
     "metadata": {},
     "output_type": "execute_result"
    }
   ],
   "source": [
    "normalized_rfstime = removed_pid.copy()\n",
    "\n",
    "normalized_rfstime['rfstime'] = normalized_rfstime['rfstime'].map(lambda x: 0 if x <= 800 else 1 if x <= 1600 else 2)\n",
    "\n",
    "normalized_rfstime.head()\n"
   ],
   "metadata": {
    "collapsed": false,
    "ExecuteTime": {
     "end_time": "2023-05-12T06:24:04.869138700Z",
     "start_time": "2023-05-12T06:24:04.854996300Z"
    }
   }
  },
  {
   "cell_type": "markdown",
   "source": [
    "Now that we have the data normalized (instead of a bunch of ranging floats, we have three categories of rfstime, short, medium, and long, maybe that will improve performance, let's check the describe of this dataframe first to check how spread out all of the values are."
   ],
   "metadata": {
    "collapsed": false
   }
  },
  {
   "cell_type": "code",
   "execution_count": 95,
   "outputs": [
    {
     "data": {
      "text/plain": "              age        meno        size       grade       nodes  \\\ncount  686.000000  686.000000  686.000000  686.000000  686.000000   \nmean    53.052478    0.577259   29.329446    2.116618    5.010204   \nstd     10.120739    0.494355   14.296217    0.582808    5.475483   \nmin     21.000000    0.000000    3.000000    1.000000    1.000000   \n25%     46.000000    0.000000   20.000000    2.000000    1.000000   \n50%     53.000000    1.000000   25.000000    2.000000    3.000000   \n75%     61.000000    1.000000   35.000000    2.000000    7.000000   \nmax     80.000000    1.000000  120.000000    3.000000   51.000000   \n\n               pgr           er      hormon  rfstime  \ncount   686.000000   686.000000  686.000000    686.0  \nmean    109.995627    96.252187    0.358601      0.0  \nstd     202.331552   153.083963    0.479940      0.0  \nmin       0.000000     0.000000    0.000000      0.0  \n25%       7.000000     8.000000    0.000000      0.0  \n50%      32.500000    36.000000    0.000000      0.0  \n75%     131.750000   114.000000    1.000000      0.0  \nmax    2380.000000  1144.000000    1.000000      0.0  ",
      "text/html": "<div>\n<style scoped>\n    .dataframe tbody tr th:only-of-type {\n        vertical-align: middle;\n    }\n\n    .dataframe tbody tr th {\n        vertical-align: top;\n    }\n\n    .dataframe thead th {\n        text-align: right;\n    }\n</style>\n<table border=\"1\" class=\"dataframe\">\n  <thead>\n    <tr style=\"text-align: right;\">\n      <th></th>\n      <th>age</th>\n      <th>meno</th>\n      <th>size</th>\n      <th>grade</th>\n      <th>nodes</th>\n      <th>pgr</th>\n      <th>er</th>\n      <th>hormon</th>\n      <th>rfstime</th>\n    </tr>\n  </thead>\n  <tbody>\n    <tr>\n      <th>count</th>\n      <td>686.000000</td>\n      <td>686.000000</td>\n      <td>686.000000</td>\n      <td>686.000000</td>\n      <td>686.000000</td>\n      <td>686.000000</td>\n      <td>686.000000</td>\n      <td>686.000000</td>\n      <td>686.0</td>\n    </tr>\n    <tr>\n      <th>mean</th>\n      <td>53.052478</td>\n      <td>0.577259</td>\n      <td>29.329446</td>\n      <td>2.116618</td>\n      <td>5.010204</td>\n      <td>109.995627</td>\n      <td>96.252187</td>\n      <td>0.358601</td>\n      <td>0.0</td>\n    </tr>\n    <tr>\n      <th>std</th>\n      <td>10.120739</td>\n      <td>0.494355</td>\n      <td>14.296217</td>\n      <td>0.582808</td>\n      <td>5.475483</td>\n      <td>202.331552</td>\n      <td>153.083963</td>\n      <td>0.479940</td>\n      <td>0.0</td>\n    </tr>\n    <tr>\n      <th>min</th>\n      <td>21.000000</td>\n      <td>0.000000</td>\n      <td>3.000000</td>\n      <td>1.000000</td>\n      <td>1.000000</td>\n      <td>0.000000</td>\n      <td>0.000000</td>\n      <td>0.000000</td>\n      <td>0.0</td>\n    </tr>\n    <tr>\n      <th>25%</th>\n      <td>46.000000</td>\n      <td>0.000000</td>\n      <td>20.000000</td>\n      <td>2.000000</td>\n      <td>1.000000</td>\n      <td>7.000000</td>\n      <td>8.000000</td>\n      <td>0.000000</td>\n      <td>0.0</td>\n    </tr>\n    <tr>\n      <th>50%</th>\n      <td>53.000000</td>\n      <td>1.000000</td>\n      <td>25.000000</td>\n      <td>2.000000</td>\n      <td>3.000000</td>\n      <td>32.500000</td>\n      <td>36.000000</td>\n      <td>0.000000</td>\n      <td>0.0</td>\n    </tr>\n    <tr>\n      <th>75%</th>\n      <td>61.000000</td>\n      <td>1.000000</td>\n      <td>35.000000</td>\n      <td>2.000000</td>\n      <td>7.000000</td>\n      <td>131.750000</td>\n      <td>114.000000</td>\n      <td>1.000000</td>\n      <td>0.0</td>\n    </tr>\n    <tr>\n      <th>max</th>\n      <td>80.000000</td>\n      <td>1.000000</td>\n      <td>120.000000</td>\n      <td>3.000000</td>\n      <td>51.000000</td>\n      <td>2380.000000</td>\n      <td>1144.000000</td>\n      <td>1.000000</td>\n      <td>0.0</td>\n    </tr>\n  </tbody>\n</table>\n</div>"
     },
     "execution_count": 95,
     "metadata": {},
     "output_type": "execute_result"
    }
   ],
   "source": [
    "normalized_rfstime.describe()"
   ],
   "metadata": {
    "collapsed": false,
    "ExecuteTime": {
     "end_time": "2023-05-12T06:24:04.927644700Z",
     "start_time": "2023-05-12T06:24:04.870138700Z"
    }
   }
  },
  {
   "cell_type": "markdown",
   "source": [
    "As we can see in the describe, the mean is 0? This means that we set all of our values to 0! That is because we used the sigmoid function on the rfstime before refactoring it, so that means all the value were <= 800, therefore all being 0, let's clean this up, copy over the original dataset with pid removed."
   ],
   "metadata": {
    "collapsed": false
   }
  },
  {
   "cell_type": "code",
   "execution_count": 96,
   "outputs": [
    {
     "data": {
      "text/plain": "   age  meno  size  grade  nodes  pgr  er  hormon  rfstime\n0   49     0    18      2      2    0   0       0     1838\n1   55     1    20      3     16    0   0       0      403\n2   56     1    40      3      3    0   0       0     1603\n3   45     0    25      3      1    0   4       0      177\n4   65     1    30      2      5    0  36       1     1855",
      "text/html": "<div>\n<style scoped>\n    .dataframe tbody tr th:only-of-type {\n        vertical-align: middle;\n    }\n\n    .dataframe tbody tr th {\n        vertical-align: top;\n    }\n\n    .dataframe thead th {\n        text-align: right;\n    }\n</style>\n<table border=\"1\" class=\"dataframe\">\n  <thead>\n    <tr style=\"text-align: right;\">\n      <th></th>\n      <th>age</th>\n      <th>meno</th>\n      <th>size</th>\n      <th>grade</th>\n      <th>nodes</th>\n      <th>pgr</th>\n      <th>er</th>\n      <th>hormon</th>\n      <th>rfstime</th>\n    </tr>\n  </thead>\n  <tbody>\n    <tr>\n      <th>0</th>\n      <td>49</td>\n      <td>0</td>\n      <td>18</td>\n      <td>2</td>\n      <td>2</td>\n      <td>0</td>\n      <td>0</td>\n      <td>0</td>\n      <td>1838</td>\n    </tr>\n    <tr>\n      <th>1</th>\n      <td>55</td>\n      <td>1</td>\n      <td>20</td>\n      <td>3</td>\n      <td>16</td>\n      <td>0</td>\n      <td>0</td>\n      <td>0</td>\n      <td>403</td>\n    </tr>\n    <tr>\n      <th>2</th>\n      <td>56</td>\n      <td>1</td>\n      <td>40</td>\n      <td>3</td>\n      <td>3</td>\n      <td>0</td>\n      <td>0</td>\n      <td>0</td>\n      <td>1603</td>\n    </tr>\n    <tr>\n      <th>3</th>\n      <td>45</td>\n      <td>0</td>\n      <td>25</td>\n      <td>3</td>\n      <td>1</td>\n      <td>0</td>\n      <td>4</td>\n      <td>0</td>\n      <td>177</td>\n    </tr>\n    <tr>\n      <th>4</th>\n      <td>65</td>\n      <td>1</td>\n      <td>30</td>\n      <td>2</td>\n      <td>5</td>\n      <td>0</td>\n      <td>36</td>\n      <td>1</td>\n      <td>1855</td>\n    </tr>\n  </tbody>\n</table>\n</div>"
     },
     "execution_count": 96,
     "metadata": {},
     "output_type": "execute_result"
    }
   ],
   "source": [
    "new_normalized_rfstime = features.drop(columns=['pid'])\n",
    "\n",
    "new_normalized_rfstime.head()"
   ],
   "metadata": {
    "collapsed": false,
    "ExecuteTime": {
     "end_time": "2023-05-12T06:24:04.945144700Z",
     "start_time": "2023-05-12T06:24:04.914144500Z"
    }
   }
  },
  {
   "cell_type": "markdown",
   "source": [
    "There! That looks a lot better, now we can apply the normalization technique to see if that changes the performance."
   ],
   "metadata": {
    "collapsed": false
   }
  },
  {
   "cell_type": "code",
   "execution_count": 97,
   "outputs": [
    {
     "data": {
      "text/plain": "              age        meno        size       grade       nodes  \\\ncount  686.000000  686.000000  686.000000  686.000000  686.000000   \nmean    53.052478    0.577259   29.329446    2.116618    5.010204   \nstd     10.120739    0.494355   14.296217    0.582808    5.475483   \nmin     21.000000    0.000000    3.000000    1.000000    1.000000   \n25%     46.000000    0.000000   20.000000    2.000000    1.000000   \n50%     53.000000    1.000000   25.000000    2.000000    3.000000   \n75%     61.000000    1.000000   35.000000    2.000000    7.000000   \nmax     80.000000    1.000000  120.000000    3.000000   51.000000   \n\n               pgr           er      hormon     rfstime  \ncount   686.000000   686.000000  686.000000  686.000000  \nmean    109.995627    96.252187    0.358601    0.897959  \nstd     202.331552   153.083963    0.479940    0.814877  \nmin       0.000000     0.000000    0.000000    0.000000  \n25%       7.000000     8.000000    0.000000    0.000000  \n50%      32.500000    36.000000    0.000000    1.000000  \n75%     131.750000   114.000000    1.000000    2.000000  \nmax    2380.000000  1144.000000    1.000000    2.000000  ",
      "text/html": "<div>\n<style scoped>\n    .dataframe tbody tr th:only-of-type {\n        vertical-align: middle;\n    }\n\n    .dataframe tbody tr th {\n        vertical-align: top;\n    }\n\n    .dataframe thead th {\n        text-align: right;\n    }\n</style>\n<table border=\"1\" class=\"dataframe\">\n  <thead>\n    <tr style=\"text-align: right;\">\n      <th></th>\n      <th>age</th>\n      <th>meno</th>\n      <th>size</th>\n      <th>grade</th>\n      <th>nodes</th>\n      <th>pgr</th>\n      <th>er</th>\n      <th>hormon</th>\n      <th>rfstime</th>\n    </tr>\n  </thead>\n  <tbody>\n    <tr>\n      <th>count</th>\n      <td>686.000000</td>\n      <td>686.000000</td>\n      <td>686.000000</td>\n      <td>686.000000</td>\n      <td>686.000000</td>\n      <td>686.000000</td>\n      <td>686.000000</td>\n      <td>686.000000</td>\n      <td>686.000000</td>\n    </tr>\n    <tr>\n      <th>mean</th>\n      <td>53.052478</td>\n      <td>0.577259</td>\n      <td>29.329446</td>\n      <td>2.116618</td>\n      <td>5.010204</td>\n      <td>109.995627</td>\n      <td>96.252187</td>\n      <td>0.358601</td>\n      <td>0.897959</td>\n    </tr>\n    <tr>\n      <th>std</th>\n      <td>10.120739</td>\n      <td>0.494355</td>\n      <td>14.296217</td>\n      <td>0.582808</td>\n      <td>5.475483</td>\n      <td>202.331552</td>\n      <td>153.083963</td>\n      <td>0.479940</td>\n      <td>0.814877</td>\n    </tr>\n    <tr>\n      <th>min</th>\n      <td>21.000000</td>\n      <td>0.000000</td>\n      <td>3.000000</td>\n      <td>1.000000</td>\n      <td>1.000000</td>\n      <td>0.000000</td>\n      <td>0.000000</td>\n      <td>0.000000</td>\n      <td>0.000000</td>\n    </tr>\n    <tr>\n      <th>25%</th>\n      <td>46.000000</td>\n      <td>0.000000</td>\n      <td>20.000000</td>\n      <td>2.000000</td>\n      <td>1.000000</td>\n      <td>7.000000</td>\n      <td>8.000000</td>\n      <td>0.000000</td>\n      <td>0.000000</td>\n    </tr>\n    <tr>\n      <th>50%</th>\n      <td>53.000000</td>\n      <td>1.000000</td>\n      <td>25.000000</td>\n      <td>2.000000</td>\n      <td>3.000000</td>\n      <td>32.500000</td>\n      <td>36.000000</td>\n      <td>0.000000</td>\n      <td>1.000000</td>\n    </tr>\n    <tr>\n      <th>75%</th>\n      <td>61.000000</td>\n      <td>1.000000</td>\n      <td>35.000000</td>\n      <td>2.000000</td>\n      <td>7.000000</td>\n      <td>131.750000</td>\n      <td>114.000000</td>\n      <td>1.000000</td>\n      <td>2.000000</td>\n    </tr>\n    <tr>\n      <th>max</th>\n      <td>80.000000</td>\n      <td>1.000000</td>\n      <td>120.000000</td>\n      <td>3.000000</td>\n      <td>51.000000</td>\n      <td>2380.000000</td>\n      <td>1144.000000</td>\n      <td>1.000000</td>\n      <td>2.000000</td>\n    </tr>\n  </tbody>\n</table>\n</div>"
     },
     "execution_count": 97,
     "metadata": {},
     "output_type": "execute_result"
    }
   ],
   "source": [
    "new_normalized_rfstime['rfstime'] = new_normalized_rfstime['rfstime'].map(\n",
    "    lambda x: 0 if x <= 800 else 1 if x <= 1600 else 2)\n",
    "\n",
    "new_normalized_rfstime.describe()\n"
   ],
   "metadata": {
    "collapsed": false,
    "ExecuteTime": {
     "end_time": "2023-05-12T06:24:04.994486800Z",
     "start_time": "2023-05-12T06:24:04.917145400Z"
    }
   }
  },
  {
   "cell_type": "markdown",
   "source": [
    "Alright, that refactoring looks a lot better, now we have transformed the continious variable of rfstime into a discrete variable of short, medium and long time."
   ],
   "metadata": {
    "collapsed": false
   }
  },
  {
   "cell_type": "code",
   "execution_count": 101,
   "outputs": [
    {
     "name": "stderr",
     "output_type": "stream",
     "text": [
      "C:\\Users\\flyin\\anaconda3\\lib\\site-packages\\sklearn\\linear_model\\_logistic.py:814: ConvergenceWarning: lbfgs failed to converge (status=1):\n",
      "STOP: TOTAL NO. of ITERATIONS REACHED LIMIT.\n",
      "\n",
      "Increase the number of iterations (max_iter) or scale the data as shown in:\n",
      "    https://scikit-learn.org/stable/modules/preprocessing.html\n",
      "Please also refer to the documentation for alternative solver options:\n",
      "    https://scikit-learn.org/stable/modules/linear_model.html#logistic-regression\n",
      "  n_iter_i = _check_optimize_result(\n",
      "C:\\Users\\flyin\\anaconda3\\lib\\site-packages\\sklearn\\linear_model\\_logistic.py:814: ConvergenceWarning: lbfgs failed to converge (status=1):\n",
      "STOP: TOTAL NO. of ITERATIONS REACHED LIMIT.\n",
      "\n",
      "Increase the number of iterations (max_iter) or scale the data as shown in:\n",
      "    https://scikit-learn.org/stable/modules/preprocessing.html\n",
      "Please also refer to the documentation for alternative solver options:\n",
      "    https://scikit-learn.org/stable/modules/linear_model.html#logistic-regression\n",
      "  n_iter_i = _check_optimize_result(\n",
      "C:\\Users\\flyin\\anaconda3\\lib\\site-packages\\sklearn\\linear_model\\_logistic.py:814: ConvergenceWarning: lbfgs failed to converge (status=1):\n",
      "STOP: TOTAL NO. of ITERATIONS REACHED LIMIT.\n",
      "\n",
      "Increase the number of iterations (max_iter) or scale the data as shown in:\n",
      "    https://scikit-learn.org/stable/modules/preprocessing.html\n",
      "Please also refer to the documentation for alternative solver options:\n",
      "    https://scikit-learn.org/stable/modules/linear_model.html#logistic-regression\n",
      "  n_iter_i = _check_optimize_result(\n",
      "C:\\Users\\flyin\\anaconda3\\lib\\site-packages\\sklearn\\linear_model\\_logistic.py:814: ConvergenceWarning: lbfgs failed to converge (status=1):\n",
      "STOP: TOTAL NO. of ITERATIONS REACHED LIMIT.\n",
      "\n",
      "Increase the number of iterations (max_iter) or scale the data as shown in:\n",
      "    https://scikit-learn.org/stable/modules/preprocessing.html\n",
      "Please also refer to the documentation for alternative solver options:\n",
      "    https://scikit-learn.org/stable/modules/linear_model.html#logistic-regression\n",
      "  n_iter_i = _check_optimize_result(\n",
      "C:\\Users\\flyin\\anaconda3\\lib\\site-packages\\sklearn\\linear_model\\_logistic.py:814: ConvergenceWarning: lbfgs failed to converge (status=1):\n",
      "STOP: TOTAL NO. of ITERATIONS REACHED LIMIT.\n",
      "\n",
      "Increase the number of iterations (max_iter) or scale the data as shown in:\n",
      "    https://scikit-learn.org/stable/modules/preprocessing.html\n",
      "Please also refer to the documentation for alternative solver options:\n",
      "    https://scikit-learn.org/stable/modules/linear_model.html#logistic-regression\n",
      "  n_iter_i = _check_optimize_result(\n",
      "C:\\Users\\flyin\\anaconda3\\lib\\site-packages\\sklearn\\linear_model\\_logistic.py:814: ConvergenceWarning: lbfgs failed to converge (status=1):\n",
      "STOP: TOTAL NO. of ITERATIONS REACHED LIMIT.\n",
      "\n",
      "Increase the number of iterations (max_iter) or scale the data as shown in:\n",
      "    https://scikit-learn.org/stable/modules/preprocessing.html\n",
      "Please also refer to the documentation for alternative solver options:\n",
      "    https://scikit-learn.org/stable/modules/linear_model.html#logistic-regression\n",
      "  n_iter_i = _check_optimize_result(\n",
      "C:\\Users\\flyin\\anaconda3\\lib\\site-packages\\sklearn\\linear_model\\_logistic.py:814: ConvergenceWarning: lbfgs failed to converge (status=1):\n",
      "STOP: TOTAL NO. of ITERATIONS REACHED LIMIT.\n",
      "\n",
      "Increase the number of iterations (max_iter) or scale the data as shown in:\n",
      "    https://scikit-learn.org/stable/modules/preprocessing.html\n",
      "Please also refer to the documentation for alternative solver options:\n",
      "    https://scikit-learn.org/stable/modules/linear_model.html#logistic-regression\n",
      "  n_iter_i = _check_optimize_result(\n",
      "C:\\Users\\flyin\\anaconda3\\lib\\site-packages\\sklearn\\linear_model\\_logistic.py:814: ConvergenceWarning: lbfgs failed to converge (status=1):\n",
      "STOP: TOTAL NO. of ITERATIONS REACHED LIMIT.\n",
      "\n",
      "Increase the number of iterations (max_iter) or scale the data as shown in:\n",
      "    https://scikit-learn.org/stable/modules/preprocessing.html\n",
      "Please also refer to the documentation for alternative solver options:\n",
      "    https://scikit-learn.org/stable/modules/linear_model.html#logistic-regression\n",
      "  n_iter_i = _check_optimize_result(\n",
      "C:\\Users\\flyin\\anaconda3\\lib\\site-packages\\sklearn\\linear_model\\_logistic.py:814: ConvergenceWarning: lbfgs failed to converge (status=1):\n",
      "STOP: TOTAL NO. of ITERATIONS REACHED LIMIT.\n",
      "\n",
      "Increase the number of iterations (max_iter) or scale the data as shown in:\n",
      "    https://scikit-learn.org/stable/modules/preprocessing.html\n",
      "Please also refer to the documentation for alternative solver options:\n",
      "    https://scikit-learn.org/stable/modules/linear_model.html#logistic-regression\n",
      "  n_iter_i = _check_optimize_result(\n",
      "C:\\Users\\flyin\\anaconda3\\lib\\site-packages\\sklearn\\linear_model\\_logistic.py:814: ConvergenceWarning: lbfgs failed to converge (status=1):\n",
      "STOP: TOTAL NO. of ITERATIONS REACHED LIMIT.\n",
      "\n",
      "Increase the number of iterations (max_iter) or scale the data as shown in:\n",
      "    https://scikit-learn.org/stable/modules/preprocessing.html\n",
      "Please also refer to the documentation for alternative solver options:\n",
      "    https://scikit-learn.org/stable/modules/linear_model.html#logistic-regression\n",
      "  n_iter_i = _check_optimize_result(\n",
      "C:\\Users\\flyin\\anaconda3\\lib\\site-packages\\sklearn\\linear_model\\_logistic.py:814: ConvergenceWarning: lbfgs failed to converge (status=1):\n",
      "STOP: TOTAL NO. of ITERATIONS REACHED LIMIT.\n",
      "\n",
      "Increase the number of iterations (max_iter) or scale the data as shown in:\n",
      "    https://scikit-learn.org/stable/modules/preprocessing.html\n",
      "Please also refer to the documentation for alternative solver options:\n",
      "    https://scikit-learn.org/stable/modules/linear_model.html#logistic-regression\n",
      "  n_iter_i = _check_optimize_result(\n",
      "C:\\Users\\flyin\\anaconda3\\lib\\site-packages\\sklearn\\linear_model\\_logistic.py:814: ConvergenceWarning: lbfgs failed to converge (status=1):\n",
      "STOP: TOTAL NO. of ITERATIONS REACHED LIMIT.\n",
      "\n",
      "Increase the number of iterations (max_iter) or scale the data as shown in:\n",
      "    https://scikit-learn.org/stable/modules/preprocessing.html\n",
      "Please also refer to the documentation for alternative solver options:\n",
      "    https://scikit-learn.org/stable/modules/linear_model.html#logistic-regression\n",
      "  n_iter_i = _check_optimize_result(\n",
      "C:\\Users\\flyin\\anaconda3\\lib\\site-packages\\sklearn\\linear_model\\_logistic.py:814: ConvergenceWarning: lbfgs failed to converge (status=1):\n",
      "STOP: TOTAL NO. of ITERATIONS REACHED LIMIT.\n",
      "\n",
      "Increase the number of iterations (max_iter) or scale the data as shown in:\n",
      "    https://scikit-learn.org/stable/modules/preprocessing.html\n",
      "Please also refer to the documentation for alternative solver options:\n",
      "    https://scikit-learn.org/stable/modules/linear_model.html#logistic-regression\n",
      "  n_iter_i = _check_optimize_result(\n",
      "C:\\Users\\flyin\\anaconda3\\lib\\site-packages\\sklearn\\linear_model\\_logistic.py:814: ConvergenceWarning: lbfgs failed to converge (status=1):\n",
      "STOP: TOTAL NO. of ITERATIONS REACHED LIMIT.\n",
      "\n",
      "Increase the number of iterations (max_iter) or scale the data as shown in:\n",
      "    https://scikit-learn.org/stable/modules/preprocessing.html\n",
      "Please also refer to the documentation for alternative solver options:\n",
      "    https://scikit-learn.org/stable/modules/linear_model.html#logistic-regression\n",
      "  n_iter_i = _check_optimize_result(\n",
      "C:\\Users\\flyin\\anaconda3\\lib\\site-packages\\sklearn\\linear_model\\_logistic.py:814: ConvergenceWarning: lbfgs failed to converge (status=1):\n",
      "STOP: TOTAL NO. of ITERATIONS REACHED LIMIT.\n",
      "\n",
      "Increase the number of iterations (max_iter) or scale the data as shown in:\n",
      "    https://scikit-learn.org/stable/modules/preprocessing.html\n",
      "Please also refer to the documentation for alternative solver options:\n",
      "    https://scikit-learn.org/stable/modules/linear_model.html#logistic-regression\n",
      "  n_iter_i = _check_optimize_result(\n",
      "C:\\Users\\flyin\\anaconda3\\lib\\site-packages\\sklearn\\linear_model\\_logistic.py:814: ConvergenceWarning: lbfgs failed to converge (status=1):\n",
      "STOP: TOTAL NO. of ITERATIONS REACHED LIMIT.\n",
      "\n",
      "Increase the number of iterations (max_iter) or scale the data as shown in:\n",
      "    https://scikit-learn.org/stable/modules/preprocessing.html\n",
      "Please also refer to the documentation for alternative solver options:\n",
      "    https://scikit-learn.org/stable/modules/linear_model.html#logistic-regression\n",
      "  n_iter_i = _check_optimize_result(\n",
      "C:\\Users\\flyin\\anaconda3\\lib\\site-packages\\sklearn\\linear_model\\_logistic.py:814: ConvergenceWarning: lbfgs failed to converge (status=1):\n",
      "STOP: TOTAL NO. of ITERATIONS REACHED LIMIT.\n",
      "\n",
      "Increase the number of iterations (max_iter) or scale the data as shown in:\n",
      "    https://scikit-learn.org/stable/modules/preprocessing.html\n",
      "Please also refer to the documentation for alternative solver options:\n",
      "    https://scikit-learn.org/stable/modules/linear_model.html#logistic-regression\n",
      "  n_iter_i = _check_optimize_result(\n",
      "C:\\Users\\flyin\\anaconda3\\lib\\site-packages\\sklearn\\linear_model\\_logistic.py:814: ConvergenceWarning: lbfgs failed to converge (status=1):\n",
      "STOP: TOTAL NO. of ITERATIONS REACHED LIMIT.\n",
      "\n",
      "Increase the number of iterations (max_iter) or scale the data as shown in:\n",
      "    https://scikit-learn.org/stable/modules/preprocessing.html\n",
      "Please also refer to the documentation for alternative solver options:\n",
      "    https://scikit-learn.org/stable/modules/linear_model.html#logistic-regression\n",
      "  n_iter_i = _check_optimize_result(\n",
      "C:\\Users\\flyin\\anaconda3\\lib\\site-packages\\sklearn\\linear_model\\_logistic.py:814: ConvergenceWarning: lbfgs failed to converge (status=1):\n",
      "STOP: TOTAL NO. of ITERATIONS REACHED LIMIT.\n",
      "\n",
      "Increase the number of iterations (max_iter) or scale the data as shown in:\n",
      "    https://scikit-learn.org/stable/modules/preprocessing.html\n",
      "Please also refer to the documentation for alternative solver options:\n",
      "    https://scikit-learn.org/stable/modules/linear_model.html#logistic-regression\n",
      "  n_iter_i = _check_optimize_result(\n",
      "C:\\Users\\flyin\\anaconda3\\lib\\site-packages\\sklearn\\linear_model\\_logistic.py:814: ConvergenceWarning: lbfgs failed to converge (status=1):\n",
      "STOP: TOTAL NO. of ITERATIONS REACHED LIMIT.\n",
      "\n",
      "Increase the number of iterations (max_iter) or scale the data as shown in:\n",
      "    https://scikit-learn.org/stable/modules/preprocessing.html\n",
      "Please also refer to the documentation for alternative solver options:\n",
      "    https://scikit-learn.org/stable/modules/linear_model.html#logistic-regression\n",
      "  n_iter_i = _check_optimize_result(\n"
     ]
    },
    {
     "data": {
      "text/plain": "LogisticRegressionCV()"
     },
     "execution_count": 101,
     "metadata": {},
     "output_type": "execute_result"
    }
   ],
   "source": [
    "## apply logistic regression to normalized values\n",
    "\n",
    "new_normalized_logistic_model = LogisticRegressionCV()\n",
    "\n",
    "nn_train_x, nn_test_x, nn_train_y, nn_test_y = train_test_split(new_normalized_rfstime, bc_df['status'])\n",
    "\n",
    "new_normalized_logistic_model.fit(nn_train_x, nn_train_y)"
   ],
   "metadata": {
    "collapsed": false,
    "ExecuteTime": {
     "end_time": "2023-05-12T08:06:41.465580Z",
     "start_time": "2023-05-12T08:06:40.920637600Z"
    }
   }
  },
  {
   "cell_type": "markdown",
   "source": [
    "It appears we still have some issues processing the data, maybe we could apply the sigmoid function to the columns with high standard deviation to normalize the data a bit to avoid having issues fitting it into a logistic regressor."
   ],
   "metadata": {
    "collapsed": false
   }
  },
  {
   "cell_type": "code",
   "execution_count": 102,
   "outputs": [
    {
     "data": {
      "text/plain": "              age        meno        size       grade       nodes  \\\ncount  686.000000  686.000000  686.000000  686.000000  686.000000   \nmean    53.052478    0.577259   29.329446    2.116618    5.010204   \nstd     10.120739    0.494355   14.296217    0.582808    5.475483   \nmin     21.000000    0.000000    3.000000    1.000000    1.000000   \n25%     46.000000    0.000000   20.000000    2.000000    1.000000   \n50%     53.000000    1.000000   25.000000    2.000000    3.000000   \n75%     61.000000    1.000000   35.000000    2.000000    7.000000   \nmax     80.000000    1.000000  120.000000    3.000000   51.000000   \n\n               pgr           er      hormon     rfstime  \ncount   686.000000   686.000000  686.000000  686.000000  \nmean    109.995627    96.252187    0.358601    0.897959  \nstd     202.331552   153.083963    0.479940    0.814877  \nmin       0.000000     0.000000    0.000000    0.000000  \n25%       7.000000     8.000000    0.000000    0.000000  \n50%      32.500000    36.000000    0.000000    1.000000  \n75%     131.750000   114.000000    1.000000    2.000000  \nmax    2380.000000  1144.000000    1.000000    2.000000  ",
      "text/html": "<div>\n<style scoped>\n    .dataframe tbody tr th:only-of-type {\n        vertical-align: middle;\n    }\n\n    .dataframe tbody tr th {\n        vertical-align: top;\n    }\n\n    .dataframe thead th {\n        text-align: right;\n    }\n</style>\n<table border=\"1\" class=\"dataframe\">\n  <thead>\n    <tr style=\"text-align: right;\">\n      <th></th>\n      <th>age</th>\n      <th>meno</th>\n      <th>size</th>\n      <th>grade</th>\n      <th>nodes</th>\n      <th>pgr</th>\n      <th>er</th>\n      <th>hormon</th>\n      <th>rfstime</th>\n    </tr>\n  </thead>\n  <tbody>\n    <tr>\n      <th>count</th>\n      <td>686.000000</td>\n      <td>686.000000</td>\n      <td>686.000000</td>\n      <td>686.000000</td>\n      <td>686.000000</td>\n      <td>686.000000</td>\n      <td>686.000000</td>\n      <td>686.000000</td>\n      <td>686.000000</td>\n    </tr>\n    <tr>\n      <th>mean</th>\n      <td>53.052478</td>\n      <td>0.577259</td>\n      <td>29.329446</td>\n      <td>2.116618</td>\n      <td>5.010204</td>\n      <td>109.995627</td>\n      <td>96.252187</td>\n      <td>0.358601</td>\n      <td>0.897959</td>\n    </tr>\n    <tr>\n      <th>std</th>\n      <td>10.120739</td>\n      <td>0.494355</td>\n      <td>14.296217</td>\n      <td>0.582808</td>\n      <td>5.475483</td>\n      <td>202.331552</td>\n      <td>153.083963</td>\n      <td>0.479940</td>\n      <td>0.814877</td>\n    </tr>\n    <tr>\n      <th>min</th>\n      <td>21.000000</td>\n      <td>0.000000</td>\n      <td>3.000000</td>\n      <td>1.000000</td>\n      <td>1.000000</td>\n      <td>0.000000</td>\n      <td>0.000000</td>\n      <td>0.000000</td>\n      <td>0.000000</td>\n    </tr>\n    <tr>\n      <th>25%</th>\n      <td>46.000000</td>\n      <td>0.000000</td>\n      <td>20.000000</td>\n      <td>2.000000</td>\n      <td>1.000000</td>\n      <td>7.000000</td>\n      <td>8.000000</td>\n      <td>0.000000</td>\n      <td>0.000000</td>\n    </tr>\n    <tr>\n      <th>50%</th>\n      <td>53.000000</td>\n      <td>1.000000</td>\n      <td>25.000000</td>\n      <td>2.000000</td>\n      <td>3.000000</td>\n      <td>32.500000</td>\n      <td>36.000000</td>\n      <td>0.000000</td>\n      <td>1.000000</td>\n    </tr>\n    <tr>\n      <th>75%</th>\n      <td>61.000000</td>\n      <td>1.000000</td>\n      <td>35.000000</td>\n      <td>2.000000</td>\n      <td>7.000000</td>\n      <td>131.750000</td>\n      <td>114.000000</td>\n      <td>1.000000</td>\n      <td>2.000000</td>\n    </tr>\n    <tr>\n      <th>max</th>\n      <td>80.000000</td>\n      <td>1.000000</td>\n      <td>120.000000</td>\n      <td>3.000000</td>\n      <td>51.000000</td>\n      <td>2380.000000</td>\n      <td>1144.000000</td>\n      <td>1.000000</td>\n      <td>2.000000</td>\n    </tr>\n  </tbody>\n</table>\n</div>"
     },
     "execution_count": 102,
     "metadata": {},
     "output_type": "execute_result"
    }
   ],
   "source": [
    "new_normalized_rfstime.describe()"
   ],
   "metadata": {
    "collapsed": false,
    "ExecuteTime": {
     "end_time": "2023-05-12T08:08:43.531802900Z",
     "start_time": "2023-05-12T08:08:43.513803200Z"
    }
   }
  },
  {
   "cell_type": "code",
   "execution_count": 121,
   "outputs": [
    {
     "data": {
      "text/plain": "                age        meno        size       grade       nodes  \\\ncount  6.860000e+02  686.000000  686.000000  686.000000  686.000000   \nmean   1.000000e+00    0.577259    1.285174    2.116618    1.326719   \nstd    2.895844e-11    0.494355    0.000054    0.582808    0.046826   \nmin    1.000000e+00    0.000000    1.283871    1.000000    1.254646   \n25%    1.000000e+00    0.000000    1.285177    2.000000    1.254646   \n50%    1.000000e+00    1.000000    1.285177    2.000000    1.350012   \n75%    1.000000e+00    1.000000    1.285177    2.000000    1.367544   \nmax    1.000000e+00    1.000000    1.285177    3.000000    1.367879   \n\n              pgr          er      hormon     rfstime  \ncount  686.000000  686.000000  686.000000  686.000000  \nmean     1.278769    1.278788    0.358601    0.897959  \nstd      0.000483    0.000467    0.479940    0.814877  \nmin      1.277555    1.277555    0.000000    0.000000  \n25%      1.278982    1.278983    0.000000    0.000000  \n50%      1.278984    1.278984    0.000000    1.000000  \n75%      1.278984    1.278984    1.000000    2.000000  \nmax      1.278984    1.278984    1.000000    2.000000  ",
      "text/html": "<div>\n<style scoped>\n    .dataframe tbody tr th:only-of-type {\n        vertical-align: middle;\n    }\n\n    .dataframe tbody tr th {\n        vertical-align: top;\n    }\n\n    .dataframe thead th {\n        text-align: right;\n    }\n</style>\n<table border=\"1\" class=\"dataframe\">\n  <thead>\n    <tr style=\"text-align: right;\">\n      <th></th>\n      <th>age</th>\n      <th>meno</th>\n      <th>size</th>\n      <th>grade</th>\n      <th>nodes</th>\n      <th>pgr</th>\n      <th>er</th>\n      <th>hormon</th>\n      <th>rfstime</th>\n    </tr>\n  </thead>\n  <tbody>\n    <tr>\n      <th>count</th>\n      <td>6.860000e+02</td>\n      <td>686.000000</td>\n      <td>686.000000</td>\n      <td>686.000000</td>\n      <td>686.000000</td>\n      <td>686.000000</td>\n      <td>686.000000</td>\n      <td>686.000000</td>\n      <td>686.000000</td>\n    </tr>\n    <tr>\n      <th>mean</th>\n      <td>1.000000e+00</td>\n      <td>0.577259</td>\n      <td>1.285174</td>\n      <td>2.116618</td>\n      <td>1.326719</td>\n      <td>1.278769</td>\n      <td>1.278788</td>\n      <td>0.358601</td>\n      <td>0.897959</td>\n    </tr>\n    <tr>\n      <th>std</th>\n      <td>2.895844e-11</td>\n      <td>0.494355</td>\n      <td>0.000054</td>\n      <td>0.582808</td>\n      <td>0.046826</td>\n      <td>0.000483</td>\n      <td>0.000467</td>\n      <td>0.479940</td>\n      <td>0.814877</td>\n    </tr>\n    <tr>\n      <th>min</th>\n      <td>1.000000e+00</td>\n      <td>0.000000</td>\n      <td>1.283871</td>\n      <td>1.000000</td>\n      <td>1.254646</td>\n      <td>1.277555</td>\n      <td>1.277555</td>\n      <td>0.000000</td>\n      <td>0.000000</td>\n    </tr>\n    <tr>\n      <th>25%</th>\n      <td>1.000000e+00</td>\n      <td>0.000000</td>\n      <td>1.285177</td>\n      <td>2.000000</td>\n      <td>1.254646</td>\n      <td>1.278982</td>\n      <td>1.278983</td>\n      <td>0.000000</td>\n      <td>0.000000</td>\n    </tr>\n    <tr>\n      <th>50%</th>\n      <td>1.000000e+00</td>\n      <td>1.000000</td>\n      <td>1.285177</td>\n      <td>2.000000</td>\n      <td>1.350012</td>\n      <td>1.278984</td>\n      <td>1.278984</td>\n      <td>0.000000</td>\n      <td>1.000000</td>\n    </tr>\n    <tr>\n      <th>75%</th>\n      <td>1.000000e+00</td>\n      <td>1.000000</td>\n      <td>1.285177</td>\n      <td>2.000000</td>\n      <td>1.367544</td>\n      <td>1.278984</td>\n      <td>1.278984</td>\n      <td>1.000000</td>\n      <td>2.000000</td>\n    </tr>\n    <tr>\n      <th>max</th>\n      <td>1.000000e+00</td>\n      <td>1.000000</td>\n      <td>1.285177</td>\n      <td>3.000000</td>\n      <td>1.367879</td>\n      <td>1.278984</td>\n      <td>1.278984</td>\n      <td>1.000000</td>\n      <td>2.000000</td>\n    </tr>\n  </tbody>\n</table>\n</div>"
     },
     "execution_count": 121,
     "metadata": {},
     "output_type": "execute_result"
    }
   ],
   "source": [
    "## applying the sigmoid\n",
    "\n",
    "sigmoid = lambda x: 1 / 1 + math.exp(-1 * x)\n",
    "\n",
    "new_normalized_rfstime['pgr'] = new_normalized_rfstime['pgr'].map(sigmoid)\n",
    "new_normalized_rfstime['er'] = new_normalized_rfstime['er'].map(sigmoid)\n",
    "new_normalized_rfstime['size'] = new_normalized_rfstime['size'].map(sigmoid)\n",
    "new_normalized_rfstime['nodes'] = new_normalized_rfstime['nodes'].map(sigmoid)\n",
    "new_normalized_rfstime['age'] = new_normalized_rfstime['age'].map(sigmoid)\n",
    "\n",
    "new_normalized_rfstime.describe()"
   ],
   "metadata": {
    "collapsed": false,
    "ExecuteTime": {
     "end_time": "2023-05-12T08:16:04.673977200Z",
     "start_time": "2023-05-12T08:16:04.647875300Z"
    }
   }
  },
  {
   "cell_type": "markdown",
   "source": [
    "Now it appears we have a lowered standard deviation! So all the values are relatively close together, hopefully that allows us to fit the model into a logistic regressor finally without any issues."
   ],
   "metadata": {
    "collapsed": false
   }
  },
  {
   "cell_type": "code",
   "execution_count": 125,
   "outputs": [
    {
     "data": {
      "text/plain": "0.7093023255813954"
     },
     "execution_count": 125,
     "metadata": {},
     "output_type": "execute_result"
    }
   ],
   "source": [
    "sigmoid_logistic_regressor = LogisticRegressionCV()\n",
    "\n",
    "s_train_x, s_test_x, s_train_y, s_test_y = train_test_split(new_normalized_rfstime, bc_df['status'])\n",
    "\n",
    "sigmoid_logistic_regressor.fit(s_train_x, s_train_y)\n",
    "\n",
    "sigmoid_logistic_regressor.score(s_test_x, s_test_y)"
   ],
   "metadata": {
    "collapsed": false,
    "ExecuteTime": {
     "end_time": "2023-05-12T08:16:22.863640900Z",
     "start_time": "2023-05-12T08:16:22.651141200Z"
    }
   }
  },
  {
   "cell_type": "markdown",
   "source": [
    "Although we have applied the sigmoid to all the columns with high standard deviation to try to fit the data into a logistic regressor properly, in doing so, we have forfeited a high score due to heavily changing the data. Maybe there is a column we are processing when it is unnecessary, let's try to drop a few columns we find unnecessary."
   ],
   "metadata": {
    "collapsed": false
   }
  },
  {
   "cell_type": "markdown",
   "source": [],
   "metadata": {
    "collapsed": false
   }
  },
  {
   "cell_type": "code",
   "execution_count": 187,
   "outputs": [
    {
     "data": {
      "text/plain": "0.7383720930232558"
     },
     "execution_count": 187,
     "metadata": {},
     "output_type": "execute_result"
    }
   ],
   "source": [
    "modified_rfstime = features.drop(columns=['hormon', 'er', 'pgr', 'meno', 'pid'])\n",
    "\n",
    "updated_log_regressor = LogisticRegressionCV()\n",
    "\n",
    "ulr_train_x, ulr_test_x, ulr_train_y, ulr_test_y = train_test_split(modified_rfstime, bc_df['status'])\n",
    "\n",
    "sigmoid_logistic_regressor.fit(ulr_train_x, ulr_train_y)\n",
    "\n",
    "sigmoid_logistic_regressor.score(ulr_test_x, ulr_test_y)"
   ],
   "metadata": {
    "collapsed": false,
    "ExecuteTime": {
     "end_time": "2023-05-12T08:24:47.190176100Z",
     "start_time": "2023-05-12T08:24:46.949176400Z"
    }
   }
  },
  {
   "cell_type": "markdown",
   "source": [
    "Dropping the columns and attempting to remove the complex columns from the dataset resulted in not quite what we were looking for, we're still falling in the 70s range, not close to the 80s or 90s. I will try to use the PassiveAggressiveClassifier to properly classify this data into the categories, and I will also be using the PA-II algorithm (the squared hinge loss algorithm) for the loss function, as it supports models with high levels of variance, which is the issue I am running into when trying to make predictions. The PA algorithm is a modification of the Perceptron algorithm, it is an online algorithm, and what that means is that it updates it's model while processing data, so if it gets a prediction wrong, it will adjust the weights in its internal model to hopefully get the future predictions correct. It internally splits the data you fit it with into train and test, and first begins to train, adjusting the weights, and then begins to make the predictions with the internally adjusted model."
   ],
   "metadata": {
    "collapsed": false
   }
  },
  {
   "cell_type": "code",
   "execution_count": 227,
   "outputs": [
    {
     "data": {
      "text/plain": "(0.5058139534883721, -0.2952238177358204)"
     },
     "execution_count": 227,
     "metadata": {},
     "output_type": "execute_result"
    }
   ],
   "source": [
    "from sklearn.linear_model import PassiveAggressiveClassifier, PassiveAggressiveRegressor\n",
    "\n",
    "pac = PassiveAggressiveClassifier()\n",
    "\n",
    "pac.fit(ulr_train_x, ulr_train_y)\n",
    "\n",
    "pac_score = pac.score(ulr_test_x, ulr_test_y)\n",
    "\n",
    "pacr = PassiveAggressiveRegressor(loss='squared_epsilon_insensitive')\n",
    "\n",
    "pacr.fit(ulr_train_x, ulr_train_y)\n",
    "\n",
    "pacr_score = pacr.score(ulr_test_x, ulr_test_y)\n",
    "\n",
    "pac_score, pacr_score"
   ],
   "metadata": {
    "collapsed": false,
    "ExecuteTime": {
     "end_time": "2023-05-12T08:36:22.923782100Z",
     "start_time": "2023-05-12T08:36:22.916344900Z"
    }
   }
  },
  {
   "cell_type": "markdown",
   "source": [
    "The passive-aggressive algorithm performed as bad as the linear regression, and the passive-aggressive regressor performed the worst out of all the algorithms! These are not the correct algorithms to be applying to this dataset no matter how we transform the data. This was expected though, as regressive algorithms are used to predict continuous values, while classification algorithms are used to predict discrete values."
   ],
   "metadata": {
    "collapsed": false
   }
  },
  {
   "cell_type": "code",
   "execution_count": 254,
   "outputs": [
    {
     "data": {
      "text/plain": "(0.7093023255813954, 0.7209302325581395)"
     },
     "execution_count": 254,
     "metadata": {},
     "output_type": "execute_result"
    }
   ],
   "source": [
    "# Ridge regression attempt\n",
    "\n",
    "from sklearn.linear_model import RidgeClassifier, RidgeClassifierCV\n",
    "\n",
    "rc = RidgeClassifier()\n",
    "rcv = RidgeClassifierCV()\n",
    "\n",
    "rc.fit(s_train_x, s_train_y)\n",
    "rcv.fit(s_train_x, s_train_y)\n",
    "\n",
    "rc.score(s_test_x, s_test_y), rcv.score(s_test_x, s_test_y)\n",
    "\n"
   ],
   "metadata": {
    "collapsed": false,
    "ExecuteTime": {
     "end_time": "2023-05-12T08:44:27.044013Z",
     "start_time": "2023-05-12T08:44:27.030012600Z"
    }
   }
  },
  {
   "cell_type": "markdown",
   "source": [
    "As we can see from these results, the ridge classifier algorithm does not suit our needs for this dataset as well, the majority of the predictions are reaching the maximum of .75 mark, we want to break that and reach 80 consistently on one model at least."
   ],
   "metadata": {
    "collapsed": false
   }
  },
  {
   "cell_type": "markdown",
   "source": [
    "## look into the sgdc classifier"
   ],
   "metadata": {
    "collapsed": false
   }
  }
 ],
 "metadata": {
  "kernelspec": {
   "display_name": "base",
   "language": "python",
   "name": "python3"
  },
  "language_info": {
   "codemirror_mode": {
    "name": "ipython",
    "version": 3
   },
   "file_extension": ".py",
   "mimetype": "text/x-python",
   "name": "python",
   "nbconvert_exporter": "python",
   "pygments_lexer": "ipython3",
   "version": "3.9.13"
  },
  "orig_nbformat": 4
 },
 "nbformat": 4,
 "nbformat_minor": 2
}
