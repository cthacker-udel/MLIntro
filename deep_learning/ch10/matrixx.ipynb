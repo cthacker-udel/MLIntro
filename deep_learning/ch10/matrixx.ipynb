{
  "cells": [
    {
      "cell_type": "code",
      "execution_count": 1,
      "metadata": {},
      "outputs": [],
      "source": [
        "import numpy as np"
      ]
    },
    {
      "cell_type": "code",
      "execution_count": 2,
      "metadata": {},
      "outputs": [
        {
          "name": "stdout",
          "output_type": "stream",
          "text": [
            "[[14400 18000 22000]\n",
            " [  240   576   800]\n",
            " [   96   180   200]]\n"
          ]
        }
      ],
      "source": [
        "revenue = np.array([[180, 200, 220], [24, 36, 40], [12, 18, 20]])\n",
        "expenses = np.array([[80, 90, 100], [10, 16, 20], [8, 10, 10]])\n",
        "\n",
        "print(revenue * expenses)"
      ]
    },
    {
      "cell_type": "code",
      "execution_count": 4,
      "metadata": {},
      "outputs": [
        {
          "data": {
            "text/plain": [
              "array([[100, 110, 120],\n",
              "       [ 14,  20,  20],\n",
              "       [  4,   8,  10]])"
            ]
          },
          "execution_count": 4,
          "metadata": {},
          "output_type": "execute_result"
        }
      ],
      "source": [
        "profit = revenue - expenses\n",
        "\n",
        "profit"
      ]
    },
    {
      "cell_type": "code",
      "execution_count": 7,
      "metadata": {},
      "outputs": [
        {
          "name": "stdout",
          "output_type": "stream",
          "text": [
            "[[30000 16000 60000]\n",
            " [ 5000  4000 18000]\n",
            " [ 2000  2000  8400]]\n"
          ]
        }
      ],
      "source": [
        "price_per_unit = np.array([1000, 400, 1200])\n",
        "units_ = np.array([[30, 40, 50], [5, 10, 15], [2, 5, 7]])\n",
        "\n",
        "print(units_ * price_per_unit)"
      ]
    },
    {
      "cell_type": "code",
      "execution_count": 8,
      "metadata": {},
      "outputs": [
        {
          "data": {
            "text/plain": [
              "array([[34400, 50000, 64400]])"
            ]
          },
          "execution_count": 8,
          "metadata": {},
          "output_type": "execute_result"
        }
      ],
      "source": [
        "np.dot(price_per_unit, units_)"
      ]
    },
    {
      "cell_type": "code",
      "execution_count": 11,
      "metadata": {},
      "outputs": [
        {
          "data": {
            "text/plain": [
              "array([[15000, 16500, 18750],\n",
              "       [ 5100,  5925,  7875],\n",
              "       [ 8250, 10500, 13500],\n",
              "       [ 6000,  6375,  6750]])"
            ]
          },
          "execution_count": 11,
          "metadata": {},
          "output_type": "execute_result"
        }
      ],
      "source": [
        "revenue_million = np.array([[200, 220, 250], [68, 79, 105], [110, 140, 180], [80, 85, 90]])\n",
        "\n",
        "adjusted_revenue = revenue_million * np.array([75])\n",
        "\n",
        "adjusted_revenue"
      ]
    },
    {
      "cell_type": "code",
      "execution_count": 14,
      "metadata": {},
      "outputs": [
        {
          "data": {
            "text/plain": [
              "array([[1900, 2640, 1430]])"
            ]
          },
          "execution_count": 14,
          "metadata": {},
          "output_type": "execute_result"
        }
      ],
      "source": [
        "flowers_sold = np.array([[50, 60, 25], [10, 13, 5], [40, 70, 52]])\n",
        "\n",
        "price_per_unit = [[20, 30, 15]]\n",
        "\n",
        "np.dot(price_per_unit, flowers_sold)"
      ]
    }
  ],
  "metadata": {
    "kernelspec": {
      "display_name": "base",
      "language": "python",
      "name": "python3"
    },
    "language_info": {
      "codemirror_mode": {
        "name": "ipython",
        "version": 3
      },
      "file_extension": ".py",
      "mimetype": "text/x-python",
      "name": "python",
      "nbconvert_exporter": "python",
      "pygments_lexer": "ipython3",
      "version": "3.9.13"
    },
    "orig_nbformat": 4,
    "vscode": {
      "interpreter": {
        "hash": "6dae9bdf0180e44c236a61e19872d2fc1564cb05875266897c1e7580d789c214"
      }
    }
  },
  "nbformat": 4,
  "nbformat_minor": 2
}
