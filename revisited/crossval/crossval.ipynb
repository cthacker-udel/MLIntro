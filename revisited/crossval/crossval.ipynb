{
 "cells": [
  {
   "cell_type": "code",
   "execution_count": 15,
   "metadata": {},
   "outputs": [],
   "source": [
    "import pandas as pd\n",
    "import numpy as np"
   ]
  },
  {
   "cell_type": "code",
   "execution_count": 16,
   "metadata": {},
   "outputs": [],
   "source": [
    "housing_data = pd.read_csv('./melb_data.csv')"
   ]
  },
  {
   "cell_type": "code",
   "execution_count": 26,
   "metadata": {},
   "outputs": [],
   "source": [
    "x = housing_data.copy()\n",
    "x['Price'].dropna(inplace=True)\n",
    "\n",
    "y = housing_data['Price']\n",
    "x.drop(columns=['Price'], inplace=True)\n",
    "\n",
    "numerical_columns = [col for col in x.columns if housing_data[col].dtype in ['int64', 'float64']]\n",
    "categorical_columns = [col for col in x.columns if housing_data[col].dtype == 'object']\n",
    "\n",
    "good_categorical_columns = [col for col in categorical_columns if x[col].nunique() < 10]\n",
    "bad_categorical_columns = [col for col in categorical_columns if x[col].nunique() >= 10]"
   ]
  },
  {
   "cell_type": "code",
   "execution_count": 45,
   "metadata": {},
   "outputs": [
    {
     "data": {
      "text/plain": [
       "164757.58282032402"
      ]
     },
     "execution_count": 45,
     "metadata": {},
     "output_type": "execute_result"
    }
   ],
   "source": [
    "from sklearn.pipeline import Pipeline\n",
    "from sklearn.compose import ColumnTransformer\n",
    "from sklearn.preprocessing import OrdinalEncoder, OneHotEncoder\n",
    "from sklearn.experimental import enable_iterative_imputer\n",
    "from sklearn.impute import SimpleImputer, IterativeImputer\n",
    "from sklearn.ensemble import RandomForestRegressor\n",
    "from sklearn.model_selection import train_test_split\n",
    "from sklearn.metrics import mean_absolute_error\n",
    "\n",
    "x_train, x_validation, y_train, y_validation = train_test_split(x, y, test_size=0.2, train_size=0.8, random_state=0)\n",
    "\n",
    "numerical_transformer = IterativeImputer()\n",
    "\n",
    "categorical_transformer = Pipeline(steps=[('impute', SimpleImputer(strategy='most_frequent')), ('encode', OneHotEncoder(handle_unknown='ignore'))])\n",
    "\n",
    "preprocessor = ColumnTransformer(transformers=[('numerical', numerical_transformer, numerical_columns), ('categorical', categorical_transformer, categorical_columns)])\n",
    "\n",
    "model = RandomForestRegressor(random_state=0)\n",
    "\n",
    "pipeline = Pipeline(steps=[('preprocess', preprocessor), ('model', model)])\n",
    "\n",
    "pipeline.fit(x_train, y_train)\n",
    "\n",
    "predictions = pipeline.predict(x_validation)\n",
    "\n",
    "mean_absolute_error(predictions, y_validation)"
   ]
  },
  {
   "cell_type": "code",
   "execution_count": 48,
   "metadata": {},
   "outputs": [
    {
     "data": {
      "text/plain": [
       "array([202545.42027614, 187095.59981591, 185113.33544183, 153240.20760309,\n",
       "       162059.47404639])"
      ]
     },
     "execution_count": 48,
     "metadata": {},
     "output_type": "execute_result"
    }
   ],
   "source": [
    "from sklearn.model_selection import cross_val_score\n",
    "\n",
    "scores = -1 * cross_val_score(pipeline, x, y, cv=5, scoring='neg_mean_absolute_error')\n",
    "\n",
    "scores"
   ]
  },
  {
   "cell_type": "code",
   "execution_count": null,
   "metadata": {},
   "outputs": [],
   "source": []
  }
 ],
 "metadata": {
  "kernelspec": {
   "display_name": "base",
   "language": "python",
   "name": "python3"
  },
  "language_info": {
   "codemirror_mode": {
    "name": "ipython",
    "version": 3
   },
   "file_extension": ".py",
   "mimetype": "text/x-python",
   "name": "python",
   "nbconvert_exporter": "python",
   "pygments_lexer": "ipython3",
   "version": "3.9.13"
  },
  "orig_nbformat": 4
 },
 "nbformat": 4,
 "nbformat_minor": 2
}
